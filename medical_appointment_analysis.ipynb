{
 "cells": [
  {
   "cell_type": "markdown",
   "metadata": {},
   "source": [
    "# Project: Medical appointment No-shows Analysis\n",
    "\n",
    "## Table of Contents\n",
    "<ul>\n",
    "<li><a href=\"#intro\">Introduction</a></li>\n",
    "<li><a href=\"#wrangling\">Data Wrangling</a></li>\n",
    "<li><a href=\"#eda\">Exploratory Data Analysis</a></li>\n",
    "<li><a href=\"#conclusions\">Conclusions</a></li>\n",
    "</ul>\n",
    "\n",
    "<a id='intro'></a>\n",
    "## Introduction\n",
    "\n",
    "In this project, I will be analyzing the Medical Appointment No Shows dataset which collects information from 100k medical appointments in Brazil. I'm interested in finding trends among the patients who showed up at the doctor's appointment and how they differ from the no-show patients. "
   ]
  },
  {
   "cell_type": "markdown",
   "metadata": {},
   "source": [
    "**First, I will import all the packages needed and use the magic command to ensure graphs are displayed within the Jupyter notebook.** "
   ]
  },
  {
   "cell_type": "code",
   "execution_count": 91,
   "metadata": {},
   "outputs": [],
   "source": [
    "import pandas as pd\n",
    "import numpy as np\n",
    "import matplotlib.pyplot as plt\n",
    "import seaborn as sns\n",
    "sns.set_style('darkgrid')\n",
    "from datetime import datetime\n",
    "% matplotlib inline"
   ]
  },
  {
   "cell_type": "markdown",
   "metadata": {},
   "source": [
    "<a id='wrangling'></a>\n",
    "## Data Wrangling\n",
    "\n",
    "\n",
    "### General Properties"
   ]
  },
  {
   "cell_type": "markdown",
   "metadata": {},
   "source": [
    "Load the dataset using panda's read_csv() function and save the dataframe into the variable: df "
   ]
  },
  {
   "cell_type": "code",
   "execution_count": 92,
   "metadata": {},
   "outputs": [],
   "source": [
    "df = pd.read_csv('noshowappointments-kagglev2-may-2016.csv')"
   ]
  },
  {
   "cell_type": "markdown",
   "metadata": {},
   "source": [
    "Inspect the first three rows of the dataset."
   ]
  },
  {
   "cell_type": "code",
   "execution_count": 93,
   "metadata": {},
   "outputs": [
    {
     "data": {
      "text/html": [
       "<div>\n",
       "<style scoped>\n",
       "    .dataframe tbody tr th:only-of-type {\n",
       "        vertical-align: middle;\n",
       "    }\n",
       "\n",
       "    .dataframe tbody tr th {\n",
       "        vertical-align: top;\n",
       "    }\n",
       "\n",
       "    .dataframe thead th {\n",
       "        text-align: right;\n",
       "    }\n",
       "</style>\n",
       "<table border=\"1\" class=\"dataframe\">\n",
       "  <thead>\n",
       "    <tr style=\"text-align: right;\">\n",
       "      <th></th>\n",
       "      <th>PatientId</th>\n",
       "      <th>AppointmentID</th>\n",
       "      <th>Gender</th>\n",
       "      <th>ScheduledDay</th>\n",
       "      <th>AppointmentDay</th>\n",
       "      <th>Age</th>\n",
       "      <th>Neighbourhood</th>\n",
       "      <th>Scholarship</th>\n",
       "      <th>Hipertension</th>\n",
       "      <th>Diabetes</th>\n",
       "      <th>Alcoholism</th>\n",
       "      <th>Handcap</th>\n",
       "      <th>SMS_received</th>\n",
       "      <th>No-show</th>\n",
       "    </tr>\n",
       "  </thead>\n",
       "  <tbody>\n",
       "    <tr>\n",
       "      <th>0</th>\n",
       "      <td>2.987250e+13</td>\n",
       "      <td>5642903</td>\n",
       "      <td>F</td>\n",
       "      <td>2016-04-29T18:38:08Z</td>\n",
       "      <td>2016-04-29T00:00:00Z</td>\n",
       "      <td>62</td>\n",
       "      <td>JARDIM DA PENHA</td>\n",
       "      <td>0</td>\n",
       "      <td>1</td>\n",
       "      <td>0</td>\n",
       "      <td>0</td>\n",
       "      <td>0</td>\n",
       "      <td>0</td>\n",
       "      <td>No</td>\n",
       "    </tr>\n",
       "    <tr>\n",
       "      <th>1</th>\n",
       "      <td>5.589978e+14</td>\n",
       "      <td>5642503</td>\n",
       "      <td>M</td>\n",
       "      <td>2016-04-29T16:08:27Z</td>\n",
       "      <td>2016-04-29T00:00:00Z</td>\n",
       "      <td>56</td>\n",
       "      <td>JARDIM DA PENHA</td>\n",
       "      <td>0</td>\n",
       "      <td>0</td>\n",
       "      <td>0</td>\n",
       "      <td>0</td>\n",
       "      <td>0</td>\n",
       "      <td>0</td>\n",
       "      <td>No</td>\n",
       "    </tr>\n",
       "    <tr>\n",
       "      <th>2</th>\n",
       "      <td>4.262962e+12</td>\n",
       "      <td>5642549</td>\n",
       "      <td>F</td>\n",
       "      <td>2016-04-29T16:19:04Z</td>\n",
       "      <td>2016-04-29T00:00:00Z</td>\n",
       "      <td>62</td>\n",
       "      <td>MATA DA PRAIA</td>\n",
       "      <td>0</td>\n",
       "      <td>0</td>\n",
       "      <td>0</td>\n",
       "      <td>0</td>\n",
       "      <td>0</td>\n",
       "      <td>0</td>\n",
       "      <td>No</td>\n",
       "    </tr>\n",
       "  </tbody>\n",
       "</table>\n",
       "</div>"
      ],
      "text/plain": [
       "      PatientId  AppointmentID Gender          ScheduledDay  \\\n",
       "0  2.987250e+13        5642903      F  2016-04-29T18:38:08Z   \n",
       "1  5.589978e+14        5642503      M  2016-04-29T16:08:27Z   \n",
       "2  4.262962e+12        5642549      F  2016-04-29T16:19:04Z   \n",
       "\n",
       "         AppointmentDay  Age    Neighbourhood  Scholarship  Hipertension  \\\n",
       "0  2016-04-29T00:00:00Z   62  JARDIM DA PENHA            0             1   \n",
       "1  2016-04-29T00:00:00Z   56  JARDIM DA PENHA            0             0   \n",
       "2  2016-04-29T00:00:00Z   62    MATA DA PRAIA            0             0   \n",
       "\n",
       "   Diabetes  Alcoholism  Handcap  SMS_received No-show  \n",
       "0         0           0        0             0      No  \n",
       "1         0           0        0             0      No  \n",
       "2         0           0        0             0      No  "
      ]
     },
     "execution_count": 93,
     "metadata": {},
     "output_type": "execute_result"
    }
   ],
   "source": [
    "df.head(3)"
   ]
  },
  {
   "cell_type": "markdown",
   "metadata": {},
   "source": [
    "We see that the dataset has been correctly loaded. Each row represents a patient's appointment. The column names are mostly self-explainatory. The 'ScheduledDay' column is the date that the appointment was scheduled by the patient. And the 'AppointmentDay' is the actual appointment date. The ‘Neighborhood’ column indicates the location of the hospital. And the ‘Scholarship’ column indicates whether or not the patient is enrolled in Brasilian welfare program: Bolsa Família. 'SMS_received' column indicates whether the patient received a text message reminder. The value '0' represents 'No', and the value '1' represents 'yes' for the columns: 'Scholarship', 'Hipertension', 'Diabetes', 'Alcoholism',\t'Handcap', 'SMS_received'. And the 'No-show' column records whether the patient had a no show for this particular appointment. "
   ]
  },
  {
   "cell_type": "markdown",
   "metadata": {},
   "source": [
    "Next we look at the dataset and see how many rows and columns it has."
   ]
  },
  {
   "cell_type": "code",
   "execution_count": 94,
   "metadata": {},
   "outputs": [
    {
     "data": {
      "text/plain": [
       "(110527, 14)"
      ]
     },
     "execution_count": 94,
     "metadata": {},
     "output_type": "execute_result"
    }
   ],
   "source": [
    "df.shape"
   ]
  },
  {
   "cell_type": "markdown",
   "metadata": {},
   "source": [
    "Result shows: the dataset has 110527 rows and 14 columns. "
   ]
  },
  {
   "cell_type": "markdown",
   "metadata": {},
   "source": [
    "The next two questions would be: Are there any missing values in the dataset? Are the data types for each column correct?"
   ]
  },
  {
   "cell_type": "code",
   "execution_count": 95,
   "metadata": {},
   "outputs": [
    {
     "name": "stdout",
     "output_type": "stream",
     "text": [
      "<class 'pandas.core.frame.DataFrame'>\n",
      "RangeIndex: 110527 entries, 0 to 110526\n",
      "Data columns (total 14 columns):\n",
      "PatientId         110527 non-null float64\n",
      "AppointmentID     110527 non-null int64\n",
      "Gender            110527 non-null object\n",
      "ScheduledDay      110527 non-null object\n",
      "AppointmentDay    110527 non-null object\n",
      "Age               110527 non-null int64\n",
      "Neighbourhood     110527 non-null object\n",
      "Scholarship       110527 non-null int64\n",
      "Hipertension      110527 non-null int64\n",
      "Diabetes          110527 non-null int64\n",
      "Alcoholism        110527 non-null int64\n",
      "Handcap           110527 non-null int64\n",
      "SMS_received      110527 non-null int64\n",
      "No-show           110527 non-null object\n",
      "dtypes: float64(1), int64(8), object(5)\n",
      "memory usage: 11.8+ MB\n"
     ]
    }
   ],
   "source": [
    "df.info()"
   ]
  },
  {
   "cell_type": "markdown",
   "metadata": {},
   "source": [
    "Interestingly, for every column there are 110527 values, and it matches the total row number. This means: there are no missing values for this data set. As for data types, the 'ScheduledDay' and 'AppointmentDay' columns will need to be parsed into datetime format. Also, I will convert the 'No-show' column into integer datatype, with 1 for no show and 0 for showed up. "
   ]
  },
  {
   "cell_type": "markdown",
   "metadata": {},
   "source": [
    "What about duplicated rows?  "
   ]
  },
  {
   "cell_type": "code",
   "execution_count": 96,
   "metadata": {},
   "outputs": [
    {
     "data": {
      "text/plain": [
       "0"
      ]
     },
     "execution_count": 96,
     "metadata": {},
     "output_type": "execute_result"
    }
   ],
   "source": [
    "sum(df.duplicated())"
   ]
  },
  {
   "cell_type": "markdown",
   "metadata": {},
   "source": [
    "Amazingly, there are no duplicated rows in this dataset. "
   ]
  },
  {
   "cell_type": "markdown",
   "metadata": {},
   "source": [
    "Let's take a look at the summary statistics of the numeric columns and see if there are any data quality issues. "
   ]
  },
  {
   "cell_type": "code",
   "execution_count": 97,
   "metadata": {
    "scrolled": true
   },
   "outputs": [
    {
     "data": {
      "text/html": [
       "<div>\n",
       "<style scoped>\n",
       "    .dataframe tbody tr th:only-of-type {\n",
       "        vertical-align: middle;\n",
       "    }\n",
       "\n",
       "    .dataframe tbody tr th {\n",
       "        vertical-align: top;\n",
       "    }\n",
       "\n",
       "    .dataframe thead th {\n",
       "        text-align: right;\n",
       "    }\n",
       "</style>\n",
       "<table border=\"1\" class=\"dataframe\">\n",
       "  <thead>\n",
       "    <tr style=\"text-align: right;\">\n",
       "      <th></th>\n",
       "      <th>PatientId</th>\n",
       "      <th>AppointmentID</th>\n",
       "      <th>Age</th>\n",
       "      <th>Scholarship</th>\n",
       "      <th>Hipertension</th>\n",
       "      <th>Diabetes</th>\n",
       "      <th>Alcoholism</th>\n",
       "      <th>Handcap</th>\n",
       "      <th>SMS_received</th>\n",
       "    </tr>\n",
       "  </thead>\n",
       "  <tbody>\n",
       "    <tr>\n",
       "      <th>count</th>\n",
       "      <td>1.105270e+05</td>\n",
       "      <td>1.105270e+05</td>\n",
       "      <td>110527.000000</td>\n",
       "      <td>110527.000000</td>\n",
       "      <td>110527.000000</td>\n",
       "      <td>110527.000000</td>\n",
       "      <td>110527.000000</td>\n",
       "      <td>110527.000000</td>\n",
       "      <td>110527.000000</td>\n",
       "    </tr>\n",
       "    <tr>\n",
       "      <th>mean</th>\n",
       "      <td>1.474963e+14</td>\n",
       "      <td>5.675305e+06</td>\n",
       "      <td>37.088874</td>\n",
       "      <td>0.098266</td>\n",
       "      <td>0.197246</td>\n",
       "      <td>0.071865</td>\n",
       "      <td>0.030400</td>\n",
       "      <td>0.022248</td>\n",
       "      <td>0.321026</td>\n",
       "    </tr>\n",
       "    <tr>\n",
       "      <th>std</th>\n",
       "      <td>2.560949e+14</td>\n",
       "      <td>7.129575e+04</td>\n",
       "      <td>23.110205</td>\n",
       "      <td>0.297675</td>\n",
       "      <td>0.397921</td>\n",
       "      <td>0.258265</td>\n",
       "      <td>0.171686</td>\n",
       "      <td>0.161543</td>\n",
       "      <td>0.466873</td>\n",
       "    </tr>\n",
       "    <tr>\n",
       "      <th>min</th>\n",
       "      <td>3.921784e+04</td>\n",
       "      <td>5.030230e+06</td>\n",
       "      <td>-1.000000</td>\n",
       "      <td>0.000000</td>\n",
       "      <td>0.000000</td>\n",
       "      <td>0.000000</td>\n",
       "      <td>0.000000</td>\n",
       "      <td>0.000000</td>\n",
       "      <td>0.000000</td>\n",
       "    </tr>\n",
       "    <tr>\n",
       "      <th>25%</th>\n",
       "      <td>4.172614e+12</td>\n",
       "      <td>5.640286e+06</td>\n",
       "      <td>18.000000</td>\n",
       "      <td>0.000000</td>\n",
       "      <td>0.000000</td>\n",
       "      <td>0.000000</td>\n",
       "      <td>0.000000</td>\n",
       "      <td>0.000000</td>\n",
       "      <td>0.000000</td>\n",
       "    </tr>\n",
       "    <tr>\n",
       "      <th>50%</th>\n",
       "      <td>3.173184e+13</td>\n",
       "      <td>5.680573e+06</td>\n",
       "      <td>37.000000</td>\n",
       "      <td>0.000000</td>\n",
       "      <td>0.000000</td>\n",
       "      <td>0.000000</td>\n",
       "      <td>0.000000</td>\n",
       "      <td>0.000000</td>\n",
       "      <td>0.000000</td>\n",
       "    </tr>\n",
       "    <tr>\n",
       "      <th>75%</th>\n",
       "      <td>9.439172e+13</td>\n",
       "      <td>5.725524e+06</td>\n",
       "      <td>55.000000</td>\n",
       "      <td>0.000000</td>\n",
       "      <td>0.000000</td>\n",
       "      <td>0.000000</td>\n",
       "      <td>0.000000</td>\n",
       "      <td>0.000000</td>\n",
       "      <td>1.000000</td>\n",
       "    </tr>\n",
       "    <tr>\n",
       "      <th>max</th>\n",
       "      <td>9.999816e+14</td>\n",
       "      <td>5.790484e+06</td>\n",
       "      <td>115.000000</td>\n",
       "      <td>1.000000</td>\n",
       "      <td>1.000000</td>\n",
       "      <td>1.000000</td>\n",
       "      <td>1.000000</td>\n",
       "      <td>4.000000</td>\n",
       "      <td>1.000000</td>\n",
       "    </tr>\n",
       "  </tbody>\n",
       "</table>\n",
       "</div>"
      ],
      "text/plain": [
       "          PatientId  AppointmentID            Age    Scholarship  \\\n",
       "count  1.105270e+05   1.105270e+05  110527.000000  110527.000000   \n",
       "mean   1.474963e+14   5.675305e+06      37.088874       0.098266   \n",
       "std    2.560949e+14   7.129575e+04      23.110205       0.297675   \n",
       "min    3.921784e+04   5.030230e+06      -1.000000       0.000000   \n",
       "25%    4.172614e+12   5.640286e+06      18.000000       0.000000   \n",
       "50%    3.173184e+13   5.680573e+06      37.000000       0.000000   \n",
       "75%    9.439172e+13   5.725524e+06      55.000000       0.000000   \n",
       "max    9.999816e+14   5.790484e+06     115.000000       1.000000   \n",
       "\n",
       "        Hipertension       Diabetes     Alcoholism        Handcap  \\\n",
       "count  110527.000000  110527.000000  110527.000000  110527.000000   \n",
       "mean        0.197246       0.071865       0.030400       0.022248   \n",
       "std         0.397921       0.258265       0.171686       0.161543   \n",
       "min         0.000000       0.000000       0.000000       0.000000   \n",
       "25%         0.000000       0.000000       0.000000       0.000000   \n",
       "50%         0.000000       0.000000       0.000000       0.000000   \n",
       "75%         0.000000       0.000000       0.000000       0.000000   \n",
       "max         1.000000       1.000000       1.000000       4.000000   \n",
       "\n",
       "        SMS_received  \n",
       "count  110527.000000  \n",
       "mean        0.321026  \n",
       "std         0.466873  \n",
       "min         0.000000  \n",
       "25%         0.000000  \n",
       "50%         0.000000  \n",
       "75%         1.000000  \n",
       "max         1.000000  "
      ]
     },
     "execution_count": 97,
     "metadata": {},
     "output_type": "execute_result"
    }
   ],
   "source": [
    "df.describe()"
   ]
  },
  {
   "cell_type": "markdown",
   "metadata": {},
   "source": [
    "We can see that for this dataset, the mean and median age is around 37 years old, and about 50% of the patients fall between the age 18 to 55. The maximum age is '115' which is possible. But the minimum age of '-1' is definitely not possible. From the 'Scholarship' column, we also see that about 9.8% of the patients are enrolled in the Brasilian welfare program: Bolsa Família.  Data also shows 19.7% of the patients have hypertension. 3% of the patients has problem with Alcohol, and 2% are hadicap. On average, 32% of the patients received text messages reminders for the medical appointment. Looking at the Handcap column, we see the maximum values is: 4 which does not make sense as data within this column are coded as '0' or '1', representing 'No' and 'Yes'. We will further address this issue in the data cleaning section. "
   ]
  },
  {
   "cell_type": "markdown",
   "metadata": {},
   "source": [
    "### Data Cleaning "
   ]
  },
  {
   "cell_type": "markdown",
   "metadata": {},
   "source": [
    "After looking at the general properties of our dataset, we discovered several issues which require some data cleaning.\n",
    "\n",
    "To do list:\n",
    "\n",
    "1. Change the data type for column: 'ScheduledDay' and 'AppointmentDay' from 'object' to 'datetime index'. \n",
    "\n",
    "2. Change the 'No-show' column datatype from 'object' to 'int64'. \n",
    "\n",
    "3. Drop row(s) with the age column < 0. (We noticed the minimum age in the dataset was '-1')\n",
    "\n",
    "4. Drop row(s) with the 'Handcap' column value > 1. (We noticed the maximum Handcap in the dataset was '4') \n",
    "\n",
    "5. Drop the 'PatientId'\tand 'AppointmentID' columns, as we don't need them for our analysis. \n",
    "\n",
    "6. Change all column names into lowercases, replace '-' with lower '_'. \n",
    "\n",
    "7. Create a new dataframe column 'days_diff' which will be the value of each 'AppointmentDay' minus 'ScheduledDay' in days.\t"
   ]
  },
  {
   "cell_type": "markdown",
   "metadata": {},
   "source": [
    "**First, we will change the data type for column: 'ScheduledDay' and 'AppointmentDay' from 'object' to 'datetime index'.** \n",
    "\n",
    "I will create a column list including the two columns: 'ScheduledDay' and 'AppointmentDay', and use a for loop and the panda's to_datetime() function to change the two columns at once."
   ]
  },
  {
   "cell_type": "code",
   "execution_count": 98,
   "metadata": {},
   "outputs": [],
   "source": [
    "col_list = ['ScheduledDay', 'AppointmentDay']\n",
    "for c in col_list:\n",
    "    df[c] = pd.to_datetime(df[c])"
   ]
  },
  {
   "cell_type": "markdown",
   "metadata": {},
   "source": [
    "**Next, we will fix the 'No-show' column datatype and convert it into 'int64' format.** \n",
    "\n",
    "In order to do so, we will need to find out how the 'No-show' column is coded. "
   ]
  },
  {
   "cell_type": "code",
   "execution_count": 99,
   "metadata": {},
   "outputs": [
    {
     "data": {
      "text/plain": [
       "No     88208\n",
       "Yes    22319\n",
       "Name: No-show, dtype: int64"
      ]
     },
     "execution_count": 99,
     "metadata": {},
     "output_type": "execute_result"
    }
   ],
   "source": [
    "df['No-show'].value_counts()"
   ]
  },
  {
   "cell_type": "markdown",
   "metadata": {},
   "source": [
    "The results indicated there are only 'No' and 'Yes' two kinds of values in the 'No-show' column. "
   ]
  },
  {
   "cell_type": "markdown",
   "metadata": {},
   "source": [
    "Then we will use a numpy function: np.where() to convert the 'object' datatype into 'int64' for the 'No-show' column. \n",
    "\n",
    "We will code the 'No' value as 0, and the 'Yes' value as 1. "
   ]
  },
  {
   "cell_type": "code",
   "execution_count": 100,
   "metadata": {},
   "outputs": [],
   "source": [
    "df['No-show'] = np.where(df['No-show'] == 'No', 0, 1).astype(int)"
   ]
  },
  {
   "cell_type": "markdown",
   "metadata": {},
   "source": [
    "Now it is time to check the column datatypes again to verify the 'ScheduledDay' and 'AppoinmentDay' column has been changed to datetime index, and also confirm the 'No-show' column has been converted into integer datatype. "
   ]
  },
  {
   "cell_type": "code",
   "execution_count": 101,
   "metadata": {},
   "outputs": [
    {
     "name": "stdout",
     "output_type": "stream",
     "text": [
      "<class 'pandas.core.frame.DataFrame'>\n",
      "RangeIndex: 110527 entries, 0 to 110526\n",
      "Data columns (total 14 columns):\n",
      "PatientId         110527 non-null float64\n",
      "AppointmentID     110527 non-null int64\n",
      "Gender            110527 non-null object\n",
      "ScheduledDay      110527 non-null datetime64[ns]\n",
      "AppointmentDay    110527 non-null datetime64[ns]\n",
      "Age               110527 non-null int64\n",
      "Neighbourhood     110527 non-null object\n",
      "Scholarship       110527 non-null int64\n",
      "Hipertension      110527 non-null int64\n",
      "Diabetes          110527 non-null int64\n",
      "Alcoholism        110527 non-null int64\n",
      "Handcap           110527 non-null int64\n",
      "SMS_received      110527 non-null int64\n",
      "No-show           110527 non-null int64\n",
      "dtypes: datetime64[ns](2), float64(1), int64(9), object(2)\n",
      "memory usage: 11.8+ MB\n"
     ]
    }
   ],
   "source": [
    "df.info()"
   ]
  },
  {
   "cell_type": "markdown",
   "metadata": {},
   "source": [
    "As we can see, the datatype changes are confirmed. "
   ]
  },
  {
   "cell_type": "markdown",
   "metadata": {},
   "source": [
    "**Next is to find how many rows are there with the age column value < 0.**"
   ]
  },
  {
   "cell_type": "code",
   "execution_count": 102,
   "metadata": {},
   "outputs": [
    {
     "data": {
      "text/html": [
       "<div>\n",
       "<style scoped>\n",
       "    .dataframe tbody tr th:only-of-type {\n",
       "        vertical-align: middle;\n",
       "    }\n",
       "\n",
       "    .dataframe tbody tr th {\n",
       "        vertical-align: top;\n",
       "    }\n",
       "\n",
       "    .dataframe thead th {\n",
       "        text-align: right;\n",
       "    }\n",
       "</style>\n",
       "<table border=\"1\" class=\"dataframe\">\n",
       "  <thead>\n",
       "    <tr style=\"text-align: right;\">\n",
       "      <th></th>\n",
       "      <th>PatientId</th>\n",
       "      <th>AppointmentID</th>\n",
       "      <th>Gender</th>\n",
       "      <th>ScheduledDay</th>\n",
       "      <th>AppointmentDay</th>\n",
       "      <th>Age</th>\n",
       "      <th>Neighbourhood</th>\n",
       "      <th>Scholarship</th>\n",
       "      <th>Hipertension</th>\n",
       "      <th>Diabetes</th>\n",
       "      <th>Alcoholism</th>\n",
       "      <th>Handcap</th>\n",
       "      <th>SMS_received</th>\n",
       "      <th>No-show</th>\n",
       "    </tr>\n",
       "  </thead>\n",
       "  <tbody>\n",
       "    <tr>\n",
       "      <th>99832</th>\n",
       "      <td>4.659432e+14</td>\n",
       "      <td>5775010</td>\n",
       "      <td>F</td>\n",
       "      <td>2016-06-06 08:58:13</td>\n",
       "      <td>2016-06-06</td>\n",
       "      <td>-1</td>\n",
       "      <td>ROMÃO</td>\n",
       "      <td>0</td>\n",
       "      <td>0</td>\n",
       "      <td>0</td>\n",
       "      <td>0</td>\n",
       "      <td>0</td>\n",
       "      <td>0</td>\n",
       "      <td>0</td>\n",
       "    </tr>\n",
       "  </tbody>\n",
       "</table>\n",
       "</div>"
      ],
      "text/plain": [
       "          PatientId  AppointmentID Gender        ScheduledDay AppointmentDay  \\\n",
       "99832  4.659432e+14        5775010      F 2016-06-06 08:58:13     2016-06-06   \n",
       "\n",
       "       Age Neighbourhood  Scholarship  Hipertension  Diabetes  Alcoholism  \\\n",
       "99832   -1         ROMÃO            0             0         0           0   \n",
       "\n",
       "       Handcap  SMS_received  No-show  \n",
       "99832        0             0        0  "
      ]
     },
     "execution_count": 102,
     "metadata": {},
     "output_type": "execute_result"
    }
   ],
   "source": [
    "df.query('Age < 0')"
   ]
  },
  {
   "cell_type": "markdown",
   "metadata": {},
   "source": [
    "It seems that the only row with 'Age < 0' is the one with Age of '-1'. So let's drop this row. \n",
    "\n",
    "As we know this row's index is: 99832, we can directly use it for dropping the row as below. "
   ]
  },
  {
   "cell_type": "code",
   "execution_count": 103,
   "metadata": {},
   "outputs": [],
   "source": [
    "df.drop(99832, inplace = True)"
   ]
  },
  {
   "cell_type": "markdown",
   "metadata": {},
   "source": [
    "Let's check if the row was correctly dropped by querying again for age column value < 0. "
   ]
  },
  {
   "cell_type": "code",
   "execution_count": 104,
   "metadata": {
    "scrolled": true
   },
   "outputs": [
    {
     "data": {
      "text/html": [
       "<div>\n",
       "<style scoped>\n",
       "    .dataframe tbody tr th:only-of-type {\n",
       "        vertical-align: middle;\n",
       "    }\n",
       "\n",
       "    .dataframe tbody tr th {\n",
       "        vertical-align: top;\n",
       "    }\n",
       "\n",
       "    .dataframe thead th {\n",
       "        text-align: right;\n",
       "    }\n",
       "</style>\n",
       "<table border=\"1\" class=\"dataframe\">\n",
       "  <thead>\n",
       "    <tr style=\"text-align: right;\">\n",
       "      <th></th>\n",
       "      <th>PatientId</th>\n",
       "      <th>AppointmentID</th>\n",
       "      <th>Gender</th>\n",
       "      <th>ScheduledDay</th>\n",
       "      <th>AppointmentDay</th>\n",
       "      <th>Age</th>\n",
       "      <th>Neighbourhood</th>\n",
       "      <th>Scholarship</th>\n",
       "      <th>Hipertension</th>\n",
       "      <th>Diabetes</th>\n",
       "      <th>Alcoholism</th>\n",
       "      <th>Handcap</th>\n",
       "      <th>SMS_received</th>\n",
       "      <th>No-show</th>\n",
       "    </tr>\n",
       "  </thead>\n",
       "  <tbody>\n",
       "  </tbody>\n",
       "</table>\n",
       "</div>"
      ],
      "text/plain": [
       "Empty DataFrame\n",
       "Columns: [PatientId, AppointmentID, Gender, ScheduledDay, AppointmentDay, Age, Neighbourhood, Scholarship, Hipertension, Diabetes, Alcoholism, Handcap, SMS_received, No-show]\n",
       "Index: []"
      ]
     },
     "execution_count": 104,
     "metadata": {},
     "output_type": "execute_result"
    }
   ],
   "source": [
    "df.query('Age < 0') "
   ]
  },
  {
   "cell_type": "markdown",
   "metadata": {},
   "source": [
    "No observation was returned, indicating the negative age row has been successfully dropped from the dataset. "
   ]
  },
  {
   "cell_type": "markdown",
   "metadata": {},
   "source": [
    "**What about the rows with 'Handcap' column value > 1? How many are there?** "
   ]
  },
  {
   "cell_type": "code",
   "execution_count": 105,
   "metadata": {},
   "outputs": [
    {
     "data": {
      "text/html": [
       "<div>\n",
       "<style scoped>\n",
       "    .dataframe tbody tr th:only-of-type {\n",
       "        vertical-align: middle;\n",
       "    }\n",
       "\n",
       "    .dataframe tbody tr th {\n",
       "        vertical-align: top;\n",
       "    }\n",
       "\n",
       "    .dataframe thead th {\n",
       "        text-align: right;\n",
       "    }\n",
       "</style>\n",
       "<table border=\"1\" class=\"dataframe\">\n",
       "  <thead>\n",
       "    <tr style=\"text-align: right;\">\n",
       "      <th></th>\n",
       "      <th>PatientId</th>\n",
       "      <th>AppointmentID</th>\n",
       "      <th>Gender</th>\n",
       "      <th>ScheduledDay</th>\n",
       "      <th>AppointmentDay</th>\n",
       "      <th>Age</th>\n",
       "      <th>Neighbourhood</th>\n",
       "      <th>Scholarship</th>\n",
       "      <th>Hipertension</th>\n",
       "      <th>Diabetes</th>\n",
       "      <th>Alcoholism</th>\n",
       "      <th>Handcap</th>\n",
       "      <th>SMS_received</th>\n",
       "      <th>No-show</th>\n",
       "    </tr>\n",
       "  </thead>\n",
       "  <tbody>\n",
       "    <tr>\n",
       "      <th>946</th>\n",
       "      <td>7.282582e+13</td>\n",
       "      <td>5582483</td>\n",
       "      <td>M</td>\n",
       "      <td>2016-04-14 09:26:08</td>\n",
       "      <td>2016-04-29</td>\n",
       "      <td>94</td>\n",
       "      <td>BELA VISTA</td>\n",
       "      <td>0</td>\n",
       "      <td>1</td>\n",
       "      <td>1</td>\n",
       "      <td>0</td>\n",
       "      <td>2</td>\n",
       "      <td>1</td>\n",
       "      <td>0</td>\n",
       "    </tr>\n",
       "    <tr>\n",
       "      <th>1665</th>\n",
       "      <td>1.242919e+13</td>\n",
       "      <td>5525497</td>\n",
       "      <td>M</td>\n",
       "      <td>2016-03-30 09:16:41</td>\n",
       "      <td>2016-04-29</td>\n",
       "      <td>64</td>\n",
       "      <td>SANTA MARTHA</td>\n",
       "      <td>0</td>\n",
       "      <td>1</td>\n",
       "      <td>0</td>\n",
       "      <td>1</td>\n",
       "      <td>2</td>\n",
       "      <td>1</td>\n",
       "      <td>0</td>\n",
       "    </tr>\n",
       "    <tr>\n",
       "      <th>1666</th>\n",
       "      <td>1.242919e+13</td>\n",
       "      <td>5525498</td>\n",
       "      <td>M</td>\n",
       "      <td>2016-03-30 09:16:41</td>\n",
       "      <td>2016-04-29</td>\n",
       "      <td>64</td>\n",
       "      <td>SANTA MARTHA</td>\n",
       "      <td>0</td>\n",
       "      <td>1</td>\n",
       "      <td>0</td>\n",
       "      <td>1</td>\n",
       "      <td>2</td>\n",
       "      <td>0</td>\n",
       "      <td>0</td>\n",
       "    </tr>\n",
       "    <tr>\n",
       "      <th>2071</th>\n",
       "      <td>1.242919e+13</td>\n",
       "      <td>5640120</td>\n",
       "      <td>M</td>\n",
       "      <td>2016-04-29 10:08:48</td>\n",
       "      <td>2016-04-29</td>\n",
       "      <td>64</td>\n",
       "      <td>SANTA MARTHA</td>\n",
       "      <td>0</td>\n",
       "      <td>1</td>\n",
       "      <td>0</td>\n",
       "      <td>1</td>\n",
       "      <td>2</td>\n",
       "      <td>0</td>\n",
       "      <td>0</td>\n",
       "    </tr>\n",
       "    <tr>\n",
       "      <th>2091</th>\n",
       "      <td>1.491829e+13</td>\n",
       "      <td>5638626</td>\n",
       "      <td>F</td>\n",
       "      <td>2016-04-29 08:13:59</td>\n",
       "      <td>2016-04-29</td>\n",
       "      <td>11</td>\n",
       "      <td>ANDORINHAS</td>\n",
       "      <td>0</td>\n",
       "      <td>0</td>\n",
       "      <td>0</td>\n",
       "      <td>0</td>\n",
       "      <td>2</td>\n",
       "      <td>0</td>\n",
       "      <td>0</td>\n",
       "    </tr>\n",
       "    <tr>\n",
       "      <th>2213</th>\n",
       "      <td>3.423831e+09</td>\n",
       "      <td>5640766</td>\n",
       "      <td>F</td>\n",
       "      <td>2016-04-29 11:22:50</td>\n",
       "      <td>2016-04-29</td>\n",
       "      <td>29</td>\n",
       "      <td>VILA RUBIM</td>\n",
       "      <td>0</td>\n",
       "      <td>0</td>\n",
       "      <td>0</td>\n",
       "      <td>0</td>\n",
       "      <td>2</td>\n",
       "      <td>0</td>\n",
       "      <td>0</td>\n",
       "    </tr>\n",
       "    <tr>\n",
       "      <th>2214</th>\n",
       "      <td>2.754718e+12</td>\n",
       "      <td>5640760</td>\n",
       "      <td>M</td>\n",
       "      <td>2016-04-29 11:22:20</td>\n",
       "      <td>2016-04-29</td>\n",
       "      <td>55</td>\n",
       "      <td>DO QUADRO</td>\n",
       "      <td>0</td>\n",
       "      <td>0</td>\n",
       "      <td>0</td>\n",
       "      <td>0</td>\n",
       "      <td>3</td>\n",
       "      <td>0</td>\n",
       "      <td>0</td>\n",
       "    </tr>\n",
       "    <tr>\n",
       "      <th>2673</th>\n",
       "      <td>4.415275e+13</td>\n",
       "      <td>5589893</td>\n",
       "      <td>M</td>\n",
       "      <td>2016-04-15 13:06:05</td>\n",
       "      <td>2016-04-29</td>\n",
       "      <td>17</td>\n",
       "      <td>SANTA TEREZA</td>\n",
       "      <td>0</td>\n",
       "      <td>0</td>\n",
       "      <td>0</td>\n",
       "      <td>0</td>\n",
       "      <td>2</td>\n",
       "      <td>1</td>\n",
       "      <td>0</td>\n",
       "    </tr>\n",
       "    <tr>\n",
       "      <th>5424</th>\n",
       "      <td>1.647280e+12</td>\n",
       "      <td>5647342</td>\n",
       "      <td>M</td>\n",
       "      <td>2016-05-02 13:24:36</td>\n",
       "      <td>2016-05-04</td>\n",
       "      <td>65</td>\n",
       "      <td>SANTO ANDRÉ</td>\n",
       "      <td>0</td>\n",
       "      <td>1</td>\n",
       "      <td>1</td>\n",
       "      <td>1</td>\n",
       "      <td>2</td>\n",
       "      <td>0</td>\n",
       "      <td>1</td>\n",
       "    </tr>\n",
       "    <tr>\n",
       "      <th>5467</th>\n",
       "      <td>4.555225e+12</td>\n",
       "      <td>5689883</td>\n",
       "      <td>F</td>\n",
       "      <td>2016-05-12 09:10:28</td>\n",
       "      <td>2016-05-16</td>\n",
       "      <td>10</td>\n",
       "      <td>BENTO FERREIRA</td>\n",
       "      <td>0</td>\n",
       "      <td>0</td>\n",
       "      <td>0</td>\n",
       "      <td>0</td>\n",
       "      <td>2</td>\n",
       "      <td>0</td>\n",
       "      <td>0</td>\n",
       "    </tr>\n",
       "    <tr>\n",
       "      <th>5475</th>\n",
       "      <td>5.662976e+14</td>\n",
       "      <td>5689889</td>\n",
       "      <td>F</td>\n",
       "      <td>2016-05-12 09:10:50</td>\n",
       "      <td>2016-05-16</td>\n",
       "      <td>34</td>\n",
       "      <td>JUCUTUQUARA</td>\n",
       "      <td>0</td>\n",
       "      <td>0</td>\n",
       "      <td>0</td>\n",
       "      <td>0</td>\n",
       "      <td>2</td>\n",
       "      <td>0</td>\n",
       "      <td>1</td>\n",
       "    </tr>\n",
       "    <tr>\n",
       "      <th>5485</th>\n",
       "      <td>6.878635e+13</td>\n",
       "      <td>5663683</td>\n",
       "      <td>F</td>\n",
       "      <td>2016-05-05 10:23:26</td>\n",
       "      <td>2016-05-09</td>\n",
       "      <td>16</td>\n",
       "      <td>SANTA TEREZA</td>\n",
       "      <td>0</td>\n",
       "      <td>0</td>\n",
       "      <td>0</td>\n",
       "      <td>0</td>\n",
       "      <td>2</td>\n",
       "      <td>0</td>\n",
       "      <td>0</td>\n",
       "    </tr>\n",
       "    <tr>\n",
       "      <th>5510</th>\n",
       "      <td>4.695963e+14</td>\n",
       "      <td>5658406</td>\n",
       "      <td>F</td>\n",
       "      <td>2016-05-04 11:06:48</td>\n",
       "      <td>2016-05-05</td>\n",
       "      <td>42</td>\n",
       "      <td>SÃO PEDRO</td>\n",
       "      <td>0</td>\n",
       "      <td>1</td>\n",
       "      <td>0</td>\n",
       "      <td>0</td>\n",
       "      <td>2</td>\n",
       "      <td>0</td>\n",
       "      <td>0</td>\n",
       "    </tr>\n",
       "    <tr>\n",
       "      <th>6067</th>\n",
       "      <td>7.543387e+12</td>\n",
       "      <td>5705981</td>\n",
       "      <td>F</td>\n",
       "      <td>2016-05-17 07:41:55</td>\n",
       "      <td>2016-05-19</td>\n",
       "      <td>10</td>\n",
       "      <td>RESISTÊNCIA</td>\n",
       "      <td>0</td>\n",
       "      <td>0</td>\n",
       "      <td>0</td>\n",
       "      <td>0</td>\n",
       "      <td>2</td>\n",
       "      <td>0</td>\n",
       "      <td>1</td>\n",
       "    </tr>\n",
       "    <tr>\n",
       "      <th>6156</th>\n",
       "      <td>2.499619e+12</td>\n",
       "      <td>5693766</td>\n",
       "      <td>F</td>\n",
       "      <td>2016-05-13 07:39:38</td>\n",
       "      <td>2016-05-17</td>\n",
       "      <td>29</td>\n",
       "      <td>SANTO ANTÔNIO</td>\n",
       "      <td>0</td>\n",
       "      <td>0</td>\n",
       "      <td>0</td>\n",
       "      <td>0</td>\n",
       "      <td>2</td>\n",
       "      <td>0</td>\n",
       "      <td>0</td>\n",
       "    </tr>\n",
       "    <tr>\n",
       "      <th>6401</th>\n",
       "      <td>4.887540e+13</td>\n",
       "      <td>5683453</td>\n",
       "      <td>F</td>\n",
       "      <td>2016-05-11 07:32:16</td>\n",
       "      <td>2016-05-13</td>\n",
       "      <td>19</td>\n",
       "      <td>VILA RUBIM</td>\n",
       "      <td>0</td>\n",
       "      <td>0</td>\n",
       "      <td>0</td>\n",
       "      <td>0</td>\n",
       "      <td>2</td>\n",
       "      <td>0</td>\n",
       "      <td>0</td>\n",
       "    </tr>\n",
       "    <tr>\n",
       "      <th>11227</th>\n",
       "      <td>1.572517e+13</td>\n",
       "      <td>5587572</td>\n",
       "      <td>M</td>\n",
       "      <td>2016-04-15 08:49:43</td>\n",
       "      <td>2016-05-19</td>\n",
       "      <td>18</td>\n",
       "      <td>RESISTÊNCIA</td>\n",
       "      <td>0</td>\n",
       "      <td>0</td>\n",
       "      <td>0</td>\n",
       "      <td>0</td>\n",
       "      <td>2</td>\n",
       "      <td>0</td>\n",
       "      <td>0</td>\n",
       "    </tr>\n",
       "    <tr>\n",
       "      <th>11230</th>\n",
       "      <td>1.572517e+13</td>\n",
       "      <td>5490501</td>\n",
       "      <td>M</td>\n",
       "      <td>2016-03-18 15:02:00</td>\n",
       "      <td>2016-05-19</td>\n",
       "      <td>18</td>\n",
       "      <td>RESISTÊNCIA</td>\n",
       "      <td>0</td>\n",
       "      <td>0</td>\n",
       "      <td>0</td>\n",
       "      <td>0</td>\n",
       "      <td>2</td>\n",
       "      <td>0</td>\n",
       "      <td>0</td>\n",
       "    </tr>\n",
       "    <tr>\n",
       "      <th>14847</th>\n",
       "      <td>4.415275e+13</td>\n",
       "      <td>5542536</td>\n",
       "      <td>M</td>\n",
       "      <td>2016-04-05 09:04:49</td>\n",
       "      <td>2016-05-05</td>\n",
       "      <td>17</td>\n",
       "      <td>SANTA TEREZA</td>\n",
       "      <td>0</td>\n",
       "      <td>0</td>\n",
       "      <td>0</td>\n",
       "      <td>0</td>\n",
       "      <td>2</td>\n",
       "      <td>1</td>\n",
       "      <td>0</td>\n",
       "    </tr>\n",
       "    <tr>\n",
       "      <th>15839</th>\n",
       "      <td>8.777356e+14</td>\n",
       "      <td>5645336</td>\n",
       "      <td>F</td>\n",
       "      <td>2016-05-02 09:46:27</td>\n",
       "      <td>2016-05-12</td>\n",
       "      <td>52</td>\n",
       "      <td>DE LOURDES</td>\n",
       "      <td>0</td>\n",
       "      <td>1</td>\n",
       "      <td>0</td>\n",
       "      <td>0</td>\n",
       "      <td>2</td>\n",
       "      <td>1</td>\n",
       "      <td>0</td>\n",
       "    </tr>\n",
       "    <tr>\n",
       "      <th>15845</th>\n",
       "      <td>8.777356e+14</td>\n",
       "      <td>5645338</td>\n",
       "      <td>F</td>\n",
       "      <td>2016-05-02 09:46:40</td>\n",
       "      <td>2016-05-12</td>\n",
       "      <td>52</td>\n",
       "      <td>DE LOURDES</td>\n",
       "      <td>0</td>\n",
       "      <td>1</td>\n",
       "      <td>0</td>\n",
       "      <td>0</td>\n",
       "      <td>2</td>\n",
       "      <td>0</td>\n",
       "      <td>0</td>\n",
       "    </tr>\n",
       "    <tr>\n",
       "      <th>16632</th>\n",
       "      <td>9.198994e+12</td>\n",
       "      <td>5643939</td>\n",
       "      <td>F</td>\n",
       "      <td>2016-05-02 08:04:06</td>\n",
       "      <td>2016-05-09</td>\n",
       "      <td>32</td>\n",
       "      <td>SANTA MARTHA</td>\n",
       "      <td>0</td>\n",
       "      <td>0</td>\n",
       "      <td>0</td>\n",
       "      <td>0</td>\n",
       "      <td>2</td>\n",
       "      <td>0</td>\n",
       "      <td>0</td>\n",
       "    </tr>\n",
       "    <tr>\n",
       "      <th>16634</th>\n",
       "      <td>9.198994e+12</td>\n",
       "      <td>5628893</td>\n",
       "      <td>F</td>\n",
       "      <td>2016-04-27 12:03:16</td>\n",
       "      <td>2016-05-02</td>\n",
       "      <td>32</td>\n",
       "      <td>SANTA MARTHA</td>\n",
       "      <td>0</td>\n",
       "      <td>0</td>\n",
       "      <td>0</td>\n",
       "      <td>0</td>\n",
       "      <td>2</td>\n",
       "      <td>0</td>\n",
       "      <td>1</td>\n",
       "    </tr>\n",
       "    <tr>\n",
       "      <th>16635</th>\n",
       "      <td>9.198994e+12</td>\n",
       "      <td>5643938</td>\n",
       "      <td>F</td>\n",
       "      <td>2016-05-02 08:04:06</td>\n",
       "      <td>2016-05-09</td>\n",
       "      <td>32</td>\n",
       "      <td>SANTA MARTHA</td>\n",
       "      <td>0</td>\n",
       "      <td>0</td>\n",
       "      <td>0</td>\n",
       "      <td>0</td>\n",
       "      <td>2</td>\n",
       "      <td>0</td>\n",
       "      <td>0</td>\n",
       "    </tr>\n",
       "    <tr>\n",
       "      <th>16636</th>\n",
       "      <td>9.198994e+12</td>\n",
       "      <td>5628883</td>\n",
       "      <td>F</td>\n",
       "      <td>2016-04-27 12:01:01</td>\n",
       "      <td>2016-05-02</td>\n",
       "      <td>32</td>\n",
       "      <td>SANTA MARTHA</td>\n",
       "      <td>0</td>\n",
       "      <td>0</td>\n",
       "      <td>0</td>\n",
       "      <td>0</td>\n",
       "      <td>2</td>\n",
       "      <td>0</td>\n",
       "      <td>1</td>\n",
       "    </tr>\n",
       "    <tr>\n",
       "      <th>17862</th>\n",
       "      <td>3.528117e+11</td>\n",
       "      <td>5667635</td>\n",
       "      <td>F</td>\n",
       "      <td>2016-05-06 07:59:24</td>\n",
       "      <td>2016-05-06</td>\n",
       "      <td>37</td>\n",
       "      <td>SANTO ANDRÉ</td>\n",
       "      <td>0</td>\n",
       "      <td>0</td>\n",
       "      <td>0</td>\n",
       "      <td>0</td>\n",
       "      <td>2</td>\n",
       "      <td>0</td>\n",
       "      <td>0</td>\n",
       "    </tr>\n",
       "    <tr>\n",
       "      <th>18241</th>\n",
       "      <td>1.335188e+14</td>\n",
       "      <td>5634881</td>\n",
       "      <td>M</td>\n",
       "      <td>2016-04-28 11:58:14</td>\n",
       "      <td>2016-05-04</td>\n",
       "      <td>4</td>\n",
       "      <td>PRAIA DO SUÁ</td>\n",
       "      <td>0</td>\n",
       "      <td>0</td>\n",
       "      <td>0</td>\n",
       "      <td>0</td>\n",
       "      <td>2</td>\n",
       "      <td>1</td>\n",
       "      <td>0</td>\n",
       "    </tr>\n",
       "    <tr>\n",
       "      <th>19264</th>\n",
       "      <td>3.118989e+13</td>\n",
       "      <td>5620963</td>\n",
       "      <td>F</td>\n",
       "      <td>2016-04-26 09:39:37</td>\n",
       "      <td>2016-05-10</td>\n",
       "      <td>89</td>\n",
       "      <td>ILHA DO PRÍNCIPE</td>\n",
       "      <td>0</td>\n",
       "      <td>1</td>\n",
       "      <td>0</td>\n",
       "      <td>0</td>\n",
       "      <td>2</td>\n",
       "      <td>1</td>\n",
       "      <td>1</td>\n",
       "    </tr>\n",
       "    <tr>\n",
       "      <th>19915</th>\n",
       "      <td>4.943464e+13</td>\n",
       "      <td>5626600</td>\n",
       "      <td>M</td>\n",
       "      <td>2016-04-27 08:25:25</td>\n",
       "      <td>2016-05-11</td>\n",
       "      <td>16</td>\n",
       "      <td>BELA VISTA</td>\n",
       "      <td>0</td>\n",
       "      <td>0</td>\n",
       "      <td>0</td>\n",
       "      <td>0</td>\n",
       "      <td>2</td>\n",
       "      <td>1</td>\n",
       "      <td>0</td>\n",
       "    </tr>\n",
       "    <tr>\n",
       "      <th>19981</th>\n",
       "      <td>8.656965e+11</td>\n",
       "      <td>5676303</td>\n",
       "      <td>M</td>\n",
       "      <td>2016-05-09 15:27:02</td>\n",
       "      <td>2016-05-12</td>\n",
       "      <td>89</td>\n",
       "      <td>BELA VISTA</td>\n",
       "      <td>0</td>\n",
       "      <td>1</td>\n",
       "      <td>1</td>\n",
       "      <td>0</td>\n",
       "      <td>2</td>\n",
       "      <td>0</td>\n",
       "      <td>0</td>\n",
       "    </tr>\n",
       "    <tr>\n",
       "      <th>...</th>\n",
       "      <td>...</td>\n",
       "      <td>...</td>\n",
       "      <td>...</td>\n",
       "      <td>...</td>\n",
       "      <td>...</td>\n",
       "      <td>...</td>\n",
       "      <td>...</td>\n",
       "      <td>...</td>\n",
       "      <td>...</td>\n",
       "      <td>...</td>\n",
       "      <td>...</td>\n",
       "      <td>...</td>\n",
       "      <td>...</td>\n",
       "      <td>...</td>\n",
       "    </tr>\n",
       "    <tr>\n",
       "      <th>96173</th>\n",
       "      <td>2.539250e+14</td>\n",
       "      <td>5680027</td>\n",
       "      <td>M</td>\n",
       "      <td>2016-05-10 10:57:48</td>\n",
       "      <td>2016-06-07</td>\n",
       "      <td>82</td>\n",
       "      <td>MATA DA PRAIA</td>\n",
       "      <td>0</td>\n",
       "      <td>1</td>\n",
       "      <td>0</td>\n",
       "      <td>0</td>\n",
       "      <td>2</td>\n",
       "      <td>0</td>\n",
       "      <td>0</td>\n",
       "    </tr>\n",
       "    <tr>\n",
       "      <th>96457</th>\n",
       "      <td>8.678294e+13</td>\n",
       "      <td>5778090</td>\n",
       "      <td>M</td>\n",
       "      <td>2016-06-06 15:02:34</td>\n",
       "      <td>2016-06-07</td>\n",
       "      <td>29</td>\n",
       "      <td>JARDIM DA PENHA</td>\n",
       "      <td>0</td>\n",
       "      <td>0</td>\n",
       "      <td>0</td>\n",
       "      <td>0</td>\n",
       "      <td>2</td>\n",
       "      <td>0</td>\n",
       "      <td>0</td>\n",
       "    </tr>\n",
       "    <tr>\n",
       "      <th>96831</th>\n",
       "      <td>1.193419e+12</td>\n",
       "      <td>5720593</td>\n",
       "      <td>F</td>\n",
       "      <td>2016-05-19 14:08:28</td>\n",
       "      <td>2016-06-02</td>\n",
       "      <td>97</td>\n",
       "      <td>MARUÍPE</td>\n",
       "      <td>0</td>\n",
       "      <td>1</td>\n",
       "      <td>0</td>\n",
       "      <td>0</td>\n",
       "      <td>2</td>\n",
       "      <td>0</td>\n",
       "      <td>0</td>\n",
       "    </tr>\n",
       "    <tr>\n",
       "      <th>97998</th>\n",
       "      <td>3.919248e+12</td>\n",
       "      <td>5763747</td>\n",
       "      <td>F</td>\n",
       "      <td>2016-06-02 09:21:08</td>\n",
       "      <td>2016-06-02</td>\n",
       "      <td>8</td>\n",
       "      <td>TABUAZEIRO</td>\n",
       "      <td>0</td>\n",
       "      <td>0</td>\n",
       "      <td>0</td>\n",
       "      <td>0</td>\n",
       "      <td>2</td>\n",
       "      <td>0</td>\n",
       "      <td>0</td>\n",
       "    </tr>\n",
       "    <tr>\n",
       "      <th>98045</th>\n",
       "      <td>8.777356e+14</td>\n",
       "      <td>5783965</td>\n",
       "      <td>F</td>\n",
       "      <td>2016-06-07 14:56:08</td>\n",
       "      <td>2016-06-07</td>\n",
       "      <td>52</td>\n",
       "      <td>DE LOURDES</td>\n",
       "      <td>0</td>\n",
       "      <td>1</td>\n",
       "      <td>0</td>\n",
       "      <td>0</td>\n",
       "      <td>2</td>\n",
       "      <td>0</td>\n",
       "      <td>0</td>\n",
       "    </tr>\n",
       "    <tr>\n",
       "      <th>98538</th>\n",
       "      <td>4.972463e+14</td>\n",
       "      <td>5760621</td>\n",
       "      <td>M</td>\n",
       "      <td>2016-06-01 15:11:25</td>\n",
       "      <td>2016-06-03</td>\n",
       "      <td>19</td>\n",
       "      <td>SÃO PEDRO</td>\n",
       "      <td>0</td>\n",
       "      <td>0</td>\n",
       "      <td>0</td>\n",
       "      <td>0</td>\n",
       "      <td>4</td>\n",
       "      <td>0</td>\n",
       "      <td>0</td>\n",
       "    </tr>\n",
       "    <tr>\n",
       "      <th>99455</th>\n",
       "      <td>7.711159e+12</td>\n",
       "      <td>5764899</td>\n",
       "      <td>F</td>\n",
       "      <td>2016-06-02 11:06:13</td>\n",
       "      <td>2016-06-02</td>\n",
       "      <td>40</td>\n",
       "      <td>DO QUADRO</td>\n",
       "      <td>0</td>\n",
       "      <td>0</td>\n",
       "      <td>0</td>\n",
       "      <td>0</td>\n",
       "      <td>2</td>\n",
       "      <td>0</td>\n",
       "      <td>0</td>\n",
       "    </tr>\n",
       "    <tr>\n",
       "      <th>100538</th>\n",
       "      <td>2.894486e+12</td>\n",
       "      <td>5781415</td>\n",
       "      <td>M</td>\n",
       "      <td>2016-06-07 09:27:29</td>\n",
       "      <td>2016-06-07</td>\n",
       "      <td>11</td>\n",
       "      <td>GOIABEIRAS</td>\n",
       "      <td>1</td>\n",
       "      <td>0</td>\n",
       "      <td>0</td>\n",
       "      <td>0</td>\n",
       "      <td>2</td>\n",
       "      <td>0</td>\n",
       "      <td>0</td>\n",
       "    </tr>\n",
       "    <tr>\n",
       "      <th>101074</th>\n",
       "      <td>9.198994e+12</td>\n",
       "      <td>5673190</td>\n",
       "      <td>F</td>\n",
       "      <td>2016-05-09 09:00:57</td>\n",
       "      <td>2016-06-07</td>\n",
       "      <td>33</td>\n",
       "      <td>SANTA MARTHA</td>\n",
       "      <td>0</td>\n",
       "      <td>0</td>\n",
       "      <td>0</td>\n",
       "      <td>0</td>\n",
       "      <td>2</td>\n",
       "      <td>0</td>\n",
       "      <td>0</td>\n",
       "    </tr>\n",
       "    <tr>\n",
       "      <th>101911</th>\n",
       "      <td>2.738747e+11</td>\n",
       "      <td>5782399</td>\n",
       "      <td>M</td>\n",
       "      <td>2016-06-07 11:10:08</td>\n",
       "      <td>2016-06-07</td>\n",
       "      <td>84</td>\n",
       "      <td>RESISTÊNCIA</td>\n",
       "      <td>0</td>\n",
       "      <td>1</td>\n",
       "      <td>0</td>\n",
       "      <td>0</td>\n",
       "      <td>2</td>\n",
       "      <td>0</td>\n",
       "      <td>1</td>\n",
       "    </tr>\n",
       "    <tr>\n",
       "      <th>101912</th>\n",
       "      <td>2.738747e+11</td>\n",
       "      <td>5782398</td>\n",
       "      <td>M</td>\n",
       "      <td>2016-06-07 11:09:45</td>\n",
       "      <td>2016-06-07</td>\n",
       "      <td>84</td>\n",
       "      <td>RESISTÊNCIA</td>\n",
       "      <td>0</td>\n",
       "      <td>1</td>\n",
       "      <td>0</td>\n",
       "      <td>0</td>\n",
       "      <td>2</td>\n",
       "      <td>0</td>\n",
       "      <td>0</td>\n",
       "    </tr>\n",
       "    <tr>\n",
       "      <th>101913</th>\n",
       "      <td>2.738747e+11</td>\n",
       "      <td>5782401</td>\n",
       "      <td>M</td>\n",
       "      <td>2016-06-07 11:10:22</td>\n",
       "      <td>2016-06-07</td>\n",
       "      <td>84</td>\n",
       "      <td>RESISTÊNCIA</td>\n",
       "      <td>0</td>\n",
       "      <td>1</td>\n",
       "      <td>0</td>\n",
       "      <td>0</td>\n",
       "      <td>2</td>\n",
       "      <td>0</td>\n",
       "      <td>1</td>\n",
       "    </tr>\n",
       "    <tr>\n",
       "      <th>101949</th>\n",
       "      <td>5.947843e+11</td>\n",
       "      <td>5778232</td>\n",
       "      <td>M</td>\n",
       "      <td>2016-06-06 15:14:05</td>\n",
       "      <td>2016-06-08</td>\n",
       "      <td>12</td>\n",
       "      <td>ESTRELINHA</td>\n",
       "      <td>0</td>\n",
       "      <td>0</td>\n",
       "      <td>0</td>\n",
       "      <td>0</td>\n",
       "      <td>2</td>\n",
       "      <td>0</td>\n",
       "      <td>1</td>\n",
       "    </tr>\n",
       "    <tr>\n",
       "      <th>102276</th>\n",
       "      <td>8.656965e+11</td>\n",
       "      <td>5777565</td>\n",
       "      <td>M</td>\n",
       "      <td>2016-06-06 14:02:28</td>\n",
       "      <td>2016-06-06</td>\n",
       "      <td>89</td>\n",
       "      <td>BELA VISTA</td>\n",
       "      <td>0</td>\n",
       "      <td>1</td>\n",
       "      <td>1</td>\n",
       "      <td>0</td>\n",
       "      <td>2</td>\n",
       "      <td>0</td>\n",
       "      <td>0</td>\n",
       "    </tr>\n",
       "    <tr>\n",
       "      <th>102360</th>\n",
       "      <td>2.387212e+14</td>\n",
       "      <td>5757117</td>\n",
       "      <td>F</td>\n",
       "      <td>2016-06-01 09:00:14</td>\n",
       "      <td>2016-06-01</td>\n",
       "      <td>44</td>\n",
       "      <td>ROMÃO</td>\n",
       "      <td>0</td>\n",
       "      <td>1</td>\n",
       "      <td>1</td>\n",
       "      <td>0</td>\n",
       "      <td>2</td>\n",
       "      <td>0</td>\n",
       "      <td>0</td>\n",
       "    </tr>\n",
       "    <tr>\n",
       "      <th>102955</th>\n",
       "      <td>4.777274e+13</td>\n",
       "      <td>5776274</td>\n",
       "      <td>F</td>\n",
       "      <td>2016-06-06 10:45:58</td>\n",
       "      <td>2016-06-06</td>\n",
       "      <td>15</td>\n",
       "      <td>JOANA D´ARC</td>\n",
       "      <td>1</td>\n",
       "      <td>0</td>\n",
       "      <td>0</td>\n",
       "      <td>0</td>\n",
       "      <td>2</td>\n",
       "      <td>0</td>\n",
       "      <td>0</td>\n",
       "    </tr>\n",
       "    <tr>\n",
       "      <th>104268</th>\n",
       "      <td>7.581895e+14</td>\n",
       "      <td>5697136</td>\n",
       "      <td>F</td>\n",
       "      <td>2016-05-13 15:01:17</td>\n",
       "      <td>2016-06-02</td>\n",
       "      <td>9</td>\n",
       "      <td>ITARARÉ</td>\n",
       "      <td>0</td>\n",
       "      <td>0</td>\n",
       "      <td>0</td>\n",
       "      <td>0</td>\n",
       "      <td>4</td>\n",
       "      <td>1</td>\n",
       "      <td>1</td>\n",
       "    </tr>\n",
       "    <tr>\n",
       "      <th>104927</th>\n",
       "      <td>3.995198e+12</td>\n",
       "      <td>5734981</td>\n",
       "      <td>M</td>\n",
       "      <td>2016-05-24 16:35:44</td>\n",
       "      <td>2016-06-01</td>\n",
       "      <td>70</td>\n",
       "      <td>ANDORINHAS</td>\n",
       "      <td>0</td>\n",
       "      <td>0</td>\n",
       "      <td>0</td>\n",
       "      <td>1</td>\n",
       "      <td>3</td>\n",
       "      <td>0</td>\n",
       "      <td>0</td>\n",
       "    </tr>\n",
       "    <tr>\n",
       "      <th>104931</th>\n",
       "      <td>3.995198e+12</td>\n",
       "      <td>5734979</td>\n",
       "      <td>M</td>\n",
       "      <td>2016-05-24 16:35:44</td>\n",
       "      <td>2016-06-01</td>\n",
       "      <td>70</td>\n",
       "      <td>ANDORINHAS</td>\n",
       "      <td>0</td>\n",
       "      <td>0</td>\n",
       "      <td>0</td>\n",
       "      <td>1</td>\n",
       "      <td>3</td>\n",
       "      <td>0</td>\n",
       "      <td>0</td>\n",
       "    </tr>\n",
       "    <tr>\n",
       "      <th>104932</th>\n",
       "      <td>3.995198e+12</td>\n",
       "      <td>5734980</td>\n",
       "      <td>M</td>\n",
       "      <td>2016-05-24 16:35:44</td>\n",
       "      <td>2016-06-01</td>\n",
       "      <td>70</td>\n",
       "      <td>ANDORINHAS</td>\n",
       "      <td>0</td>\n",
       "      <td>0</td>\n",
       "      <td>0</td>\n",
       "      <td>1</td>\n",
       "      <td>3</td>\n",
       "      <td>0</td>\n",
       "      <td>0</td>\n",
       "    </tr>\n",
       "    <tr>\n",
       "      <th>105008</th>\n",
       "      <td>3.528117e+11</td>\n",
       "      <td>5781111</td>\n",
       "      <td>F</td>\n",
       "      <td>2016-06-07 09:03:12</td>\n",
       "      <td>2016-06-07</td>\n",
       "      <td>37</td>\n",
       "      <td>SANTO ANDRÉ</td>\n",
       "      <td>0</td>\n",
       "      <td>0</td>\n",
       "      <td>0</td>\n",
       "      <td>0</td>\n",
       "      <td>2</td>\n",
       "      <td>0</td>\n",
       "      <td>0</td>\n",
       "    </tr>\n",
       "    <tr>\n",
       "      <th>105073</th>\n",
       "      <td>7.892483e+12</td>\n",
       "      <td>5698177</td>\n",
       "      <td>F</td>\n",
       "      <td>2016-05-16 07:20:46</td>\n",
       "      <td>2016-06-01</td>\n",
       "      <td>35</td>\n",
       "      <td>BELA VISTA</td>\n",
       "      <td>1</td>\n",
       "      <td>0</td>\n",
       "      <td>1</td>\n",
       "      <td>0</td>\n",
       "      <td>2</td>\n",
       "      <td>1</td>\n",
       "      <td>0</td>\n",
       "    </tr>\n",
       "    <tr>\n",
       "      <th>105322</th>\n",
       "      <td>9.556215e+12</td>\n",
       "      <td>5755462</td>\n",
       "      <td>M</td>\n",
       "      <td>2016-06-01 07:23:50</td>\n",
       "      <td>2016-06-01</td>\n",
       "      <td>6</td>\n",
       "      <td>SANTA CLARA</td>\n",
       "      <td>0</td>\n",
       "      <td>0</td>\n",
       "      <td>0</td>\n",
       "      <td>0</td>\n",
       "      <td>2</td>\n",
       "      <td>0</td>\n",
       "      <td>0</td>\n",
       "    </tr>\n",
       "    <tr>\n",
       "      <th>105753</th>\n",
       "      <td>9.511263e+13</td>\n",
       "      <td>5753736</td>\n",
       "      <td>M</td>\n",
       "      <td>2016-05-31 14:41:50</td>\n",
       "      <td>2016-06-02</td>\n",
       "      <td>32</td>\n",
       "      <td>REDENÇÃO</td>\n",
       "      <td>0</td>\n",
       "      <td>0</td>\n",
       "      <td>0</td>\n",
       "      <td>0</td>\n",
       "      <td>2</td>\n",
       "      <td>0</td>\n",
       "      <td>0</td>\n",
       "    </tr>\n",
       "    <tr>\n",
       "      <th>108335</th>\n",
       "      <td>1.817725e+11</td>\n",
       "      <td>5769728</td>\n",
       "      <td>M</td>\n",
       "      <td>2016-06-03 09:11:46</td>\n",
       "      <td>2016-06-08</td>\n",
       "      <td>45</td>\n",
       "      <td>ROMÃO</td>\n",
       "      <td>0</td>\n",
       "      <td>0</td>\n",
       "      <td>0</td>\n",
       "      <td>0</td>\n",
       "      <td>2</td>\n",
       "      <td>1</td>\n",
       "      <td>0</td>\n",
       "    </tr>\n",
       "    <tr>\n",
       "      <th>108376</th>\n",
       "      <td>2.387212e+14</td>\n",
       "      <td>5756931</td>\n",
       "      <td>F</td>\n",
       "      <td>2016-06-01 08:48:28</td>\n",
       "      <td>2016-06-07</td>\n",
       "      <td>44</td>\n",
       "      <td>ROMÃO</td>\n",
       "      <td>0</td>\n",
       "      <td>1</td>\n",
       "      <td>1</td>\n",
       "      <td>0</td>\n",
       "      <td>2</td>\n",
       "      <td>1</td>\n",
       "      <td>0</td>\n",
       "    </tr>\n",
       "    <tr>\n",
       "      <th>109484</th>\n",
       "      <td>3.589495e+14</td>\n",
       "      <td>5752442</td>\n",
       "      <td>M</td>\n",
       "      <td>2016-05-31 11:45:57</td>\n",
       "      <td>2016-06-02</td>\n",
       "      <td>64</td>\n",
       "      <td>DA PENHA</td>\n",
       "      <td>0</td>\n",
       "      <td>1</td>\n",
       "      <td>1</td>\n",
       "      <td>0</td>\n",
       "      <td>2</td>\n",
       "      <td>0</td>\n",
       "      <td>0</td>\n",
       "    </tr>\n",
       "    <tr>\n",
       "      <th>109733</th>\n",
       "      <td>5.662976e+14</td>\n",
       "      <td>5772744</td>\n",
       "      <td>F</td>\n",
       "      <td>2016-06-03 16:11:00</td>\n",
       "      <td>2016-06-07</td>\n",
       "      <td>34</td>\n",
       "      <td>JUCUTUQUARA</td>\n",
       "      <td>0</td>\n",
       "      <td>0</td>\n",
       "      <td>0</td>\n",
       "      <td>0</td>\n",
       "      <td>2</td>\n",
       "      <td>1</td>\n",
       "      <td>0</td>\n",
       "    </tr>\n",
       "    <tr>\n",
       "      <th>109975</th>\n",
       "      <td>4.522185e+13</td>\n",
       "      <td>5766970</td>\n",
       "      <td>M</td>\n",
       "      <td>2016-06-02 16:07:36</td>\n",
       "      <td>2016-06-06</td>\n",
       "      <td>39</td>\n",
       "      <td>PRAIA DO SUÁ</td>\n",
       "      <td>1</td>\n",
       "      <td>0</td>\n",
       "      <td>0</td>\n",
       "      <td>0</td>\n",
       "      <td>2</td>\n",
       "      <td>1</td>\n",
       "      <td>0</td>\n",
       "    </tr>\n",
       "    <tr>\n",
       "      <th>110107</th>\n",
       "      <td>7.143714e+14</td>\n",
       "      <td>5761625</td>\n",
       "      <td>F</td>\n",
       "      <td>2016-06-02 06:44:00</td>\n",
       "      <td>2016-06-06</td>\n",
       "      <td>44</td>\n",
       "      <td>RESISTÊNCIA</td>\n",
       "      <td>0</td>\n",
       "      <td>0</td>\n",
       "      <td>0</td>\n",
       "      <td>0</td>\n",
       "      <td>2</td>\n",
       "      <td>1</td>\n",
       "      <td>0</td>\n",
       "    </tr>\n",
       "  </tbody>\n",
       "</table>\n",
       "<p>199 rows × 14 columns</p>\n",
       "</div>"
      ],
      "text/plain": [
       "           PatientId  AppointmentID Gender        ScheduledDay AppointmentDay  \\\n",
       "946     7.282582e+13        5582483      M 2016-04-14 09:26:08     2016-04-29   \n",
       "1665    1.242919e+13        5525497      M 2016-03-30 09:16:41     2016-04-29   \n",
       "1666    1.242919e+13        5525498      M 2016-03-30 09:16:41     2016-04-29   \n",
       "2071    1.242919e+13        5640120      M 2016-04-29 10:08:48     2016-04-29   \n",
       "2091    1.491829e+13        5638626      F 2016-04-29 08:13:59     2016-04-29   \n",
       "2213    3.423831e+09        5640766      F 2016-04-29 11:22:50     2016-04-29   \n",
       "2214    2.754718e+12        5640760      M 2016-04-29 11:22:20     2016-04-29   \n",
       "2673    4.415275e+13        5589893      M 2016-04-15 13:06:05     2016-04-29   \n",
       "5424    1.647280e+12        5647342      M 2016-05-02 13:24:36     2016-05-04   \n",
       "5467    4.555225e+12        5689883      F 2016-05-12 09:10:28     2016-05-16   \n",
       "5475    5.662976e+14        5689889      F 2016-05-12 09:10:50     2016-05-16   \n",
       "5485    6.878635e+13        5663683      F 2016-05-05 10:23:26     2016-05-09   \n",
       "5510    4.695963e+14        5658406      F 2016-05-04 11:06:48     2016-05-05   \n",
       "6067    7.543387e+12        5705981      F 2016-05-17 07:41:55     2016-05-19   \n",
       "6156    2.499619e+12        5693766      F 2016-05-13 07:39:38     2016-05-17   \n",
       "6401    4.887540e+13        5683453      F 2016-05-11 07:32:16     2016-05-13   \n",
       "11227   1.572517e+13        5587572      M 2016-04-15 08:49:43     2016-05-19   \n",
       "11230   1.572517e+13        5490501      M 2016-03-18 15:02:00     2016-05-19   \n",
       "14847   4.415275e+13        5542536      M 2016-04-05 09:04:49     2016-05-05   \n",
       "15839   8.777356e+14        5645336      F 2016-05-02 09:46:27     2016-05-12   \n",
       "15845   8.777356e+14        5645338      F 2016-05-02 09:46:40     2016-05-12   \n",
       "16632   9.198994e+12        5643939      F 2016-05-02 08:04:06     2016-05-09   \n",
       "16634   9.198994e+12        5628893      F 2016-04-27 12:03:16     2016-05-02   \n",
       "16635   9.198994e+12        5643938      F 2016-05-02 08:04:06     2016-05-09   \n",
       "16636   9.198994e+12        5628883      F 2016-04-27 12:01:01     2016-05-02   \n",
       "17862   3.528117e+11        5667635      F 2016-05-06 07:59:24     2016-05-06   \n",
       "18241   1.335188e+14        5634881      M 2016-04-28 11:58:14     2016-05-04   \n",
       "19264   3.118989e+13        5620963      F 2016-04-26 09:39:37     2016-05-10   \n",
       "19915   4.943464e+13        5626600      M 2016-04-27 08:25:25     2016-05-11   \n",
       "19981   8.656965e+11        5676303      M 2016-05-09 15:27:02     2016-05-12   \n",
       "...              ...            ...    ...                 ...            ...   \n",
       "96173   2.539250e+14        5680027      M 2016-05-10 10:57:48     2016-06-07   \n",
       "96457   8.678294e+13        5778090      M 2016-06-06 15:02:34     2016-06-07   \n",
       "96831   1.193419e+12        5720593      F 2016-05-19 14:08:28     2016-06-02   \n",
       "97998   3.919248e+12        5763747      F 2016-06-02 09:21:08     2016-06-02   \n",
       "98045   8.777356e+14        5783965      F 2016-06-07 14:56:08     2016-06-07   \n",
       "98538   4.972463e+14        5760621      M 2016-06-01 15:11:25     2016-06-03   \n",
       "99455   7.711159e+12        5764899      F 2016-06-02 11:06:13     2016-06-02   \n",
       "100538  2.894486e+12        5781415      M 2016-06-07 09:27:29     2016-06-07   \n",
       "101074  9.198994e+12        5673190      F 2016-05-09 09:00:57     2016-06-07   \n",
       "101911  2.738747e+11        5782399      M 2016-06-07 11:10:08     2016-06-07   \n",
       "101912  2.738747e+11        5782398      M 2016-06-07 11:09:45     2016-06-07   \n",
       "101913  2.738747e+11        5782401      M 2016-06-07 11:10:22     2016-06-07   \n",
       "101949  5.947843e+11        5778232      M 2016-06-06 15:14:05     2016-06-08   \n",
       "102276  8.656965e+11        5777565      M 2016-06-06 14:02:28     2016-06-06   \n",
       "102360  2.387212e+14        5757117      F 2016-06-01 09:00:14     2016-06-01   \n",
       "102955  4.777274e+13        5776274      F 2016-06-06 10:45:58     2016-06-06   \n",
       "104268  7.581895e+14        5697136      F 2016-05-13 15:01:17     2016-06-02   \n",
       "104927  3.995198e+12        5734981      M 2016-05-24 16:35:44     2016-06-01   \n",
       "104931  3.995198e+12        5734979      M 2016-05-24 16:35:44     2016-06-01   \n",
       "104932  3.995198e+12        5734980      M 2016-05-24 16:35:44     2016-06-01   \n",
       "105008  3.528117e+11        5781111      F 2016-06-07 09:03:12     2016-06-07   \n",
       "105073  7.892483e+12        5698177      F 2016-05-16 07:20:46     2016-06-01   \n",
       "105322  9.556215e+12        5755462      M 2016-06-01 07:23:50     2016-06-01   \n",
       "105753  9.511263e+13        5753736      M 2016-05-31 14:41:50     2016-06-02   \n",
       "108335  1.817725e+11        5769728      M 2016-06-03 09:11:46     2016-06-08   \n",
       "108376  2.387212e+14        5756931      F 2016-06-01 08:48:28     2016-06-07   \n",
       "109484  3.589495e+14        5752442      M 2016-05-31 11:45:57     2016-06-02   \n",
       "109733  5.662976e+14        5772744      F 2016-06-03 16:11:00     2016-06-07   \n",
       "109975  4.522185e+13        5766970      M 2016-06-02 16:07:36     2016-06-06   \n",
       "110107  7.143714e+14        5761625      F 2016-06-02 06:44:00     2016-06-06   \n",
       "\n",
       "        Age     Neighbourhood  Scholarship  Hipertension  Diabetes  \\\n",
       "946      94        BELA VISTA            0             1         1   \n",
       "1665     64      SANTA MARTHA            0             1         0   \n",
       "1666     64      SANTA MARTHA            0             1         0   \n",
       "2071     64      SANTA MARTHA            0             1         0   \n",
       "2091     11        ANDORINHAS            0             0         0   \n",
       "2213     29        VILA RUBIM            0             0         0   \n",
       "2214     55         DO QUADRO            0             0         0   \n",
       "2673     17      SANTA TEREZA            0             0         0   \n",
       "5424     65       SANTO ANDRÉ            0             1         1   \n",
       "5467     10    BENTO FERREIRA            0             0         0   \n",
       "5475     34       JUCUTUQUARA            0             0         0   \n",
       "5485     16      SANTA TEREZA            0             0         0   \n",
       "5510     42         SÃO PEDRO            0             1         0   \n",
       "6067     10       RESISTÊNCIA            0             0         0   \n",
       "6156     29     SANTO ANTÔNIO            0             0         0   \n",
       "6401     19        VILA RUBIM            0             0         0   \n",
       "11227    18       RESISTÊNCIA            0             0         0   \n",
       "11230    18       RESISTÊNCIA            0             0         0   \n",
       "14847    17      SANTA TEREZA            0             0         0   \n",
       "15839    52        DE LOURDES            0             1         0   \n",
       "15845    52        DE LOURDES            0             1         0   \n",
       "16632    32      SANTA MARTHA            0             0         0   \n",
       "16634    32      SANTA MARTHA            0             0         0   \n",
       "16635    32      SANTA MARTHA            0             0         0   \n",
       "16636    32      SANTA MARTHA            0             0         0   \n",
       "17862    37       SANTO ANDRÉ            0             0         0   \n",
       "18241     4      PRAIA DO SUÁ            0             0         0   \n",
       "19264    89  ILHA DO PRÍNCIPE            0             1         0   \n",
       "19915    16        BELA VISTA            0             0         0   \n",
       "19981    89        BELA VISTA            0             1         1   \n",
       "...     ...               ...          ...           ...       ...   \n",
       "96173    82     MATA DA PRAIA            0             1         0   \n",
       "96457    29   JARDIM DA PENHA            0             0         0   \n",
       "96831    97           MARUÍPE            0             1         0   \n",
       "97998     8        TABUAZEIRO            0             0         0   \n",
       "98045    52        DE LOURDES            0             1         0   \n",
       "98538    19         SÃO PEDRO            0             0         0   \n",
       "99455    40         DO QUADRO            0             0         0   \n",
       "100538   11        GOIABEIRAS            1             0         0   \n",
       "101074   33      SANTA MARTHA            0             0         0   \n",
       "101911   84       RESISTÊNCIA            0             1         0   \n",
       "101912   84       RESISTÊNCIA            0             1         0   \n",
       "101913   84       RESISTÊNCIA            0             1         0   \n",
       "101949   12        ESTRELINHA            0             0         0   \n",
       "102276   89        BELA VISTA            0             1         1   \n",
       "102360   44             ROMÃO            0             1         1   \n",
       "102955   15       JOANA D´ARC            1             0         0   \n",
       "104268    9           ITARARÉ            0             0         0   \n",
       "104927   70        ANDORINHAS            0             0         0   \n",
       "104931   70        ANDORINHAS            0             0         0   \n",
       "104932   70        ANDORINHAS            0             0         0   \n",
       "105008   37       SANTO ANDRÉ            0             0         0   \n",
       "105073   35        BELA VISTA            1             0         1   \n",
       "105322    6       SANTA CLARA            0             0         0   \n",
       "105753   32          REDENÇÃO            0             0         0   \n",
       "108335   45             ROMÃO            0             0         0   \n",
       "108376   44             ROMÃO            0             1         1   \n",
       "109484   64          DA PENHA            0             1         1   \n",
       "109733   34       JUCUTUQUARA            0             0         0   \n",
       "109975   39      PRAIA DO SUÁ            1             0         0   \n",
       "110107   44       RESISTÊNCIA            0             0         0   \n",
       "\n",
       "        Alcoholism  Handcap  SMS_received  No-show  \n",
       "946              0        2             1        0  \n",
       "1665             1        2             1        0  \n",
       "1666             1        2             0        0  \n",
       "2071             1        2             0        0  \n",
       "2091             0        2             0        0  \n",
       "2213             0        2             0        0  \n",
       "2214             0        3             0        0  \n",
       "2673             0        2             1        0  \n",
       "5424             1        2             0        1  \n",
       "5467             0        2             0        0  \n",
       "5475             0        2             0        1  \n",
       "5485             0        2             0        0  \n",
       "5510             0        2             0        0  \n",
       "6067             0        2             0        1  \n",
       "6156             0        2             0        0  \n",
       "6401             0        2             0        0  \n",
       "11227            0        2             0        0  \n",
       "11230            0        2             0        0  \n",
       "14847            0        2             1        0  \n",
       "15839            0        2             1        0  \n",
       "15845            0        2             0        0  \n",
       "16632            0        2             0        0  \n",
       "16634            0        2             0        1  \n",
       "16635            0        2             0        0  \n",
       "16636            0        2             0        1  \n",
       "17862            0        2             0        0  \n",
       "18241            0        2             1        0  \n",
       "19264            0        2             1        1  \n",
       "19915            0        2             1        0  \n",
       "19981            0        2             0        0  \n",
       "...            ...      ...           ...      ...  \n",
       "96173            0        2             0        0  \n",
       "96457            0        2             0        0  \n",
       "96831            0        2             0        0  \n",
       "97998            0        2             0        0  \n",
       "98045            0        2             0        0  \n",
       "98538            0        4             0        0  \n",
       "99455            0        2             0        0  \n",
       "100538           0        2             0        0  \n",
       "101074           0        2             0        0  \n",
       "101911           0        2             0        1  \n",
       "101912           0        2             0        0  \n",
       "101913           0        2             0        1  \n",
       "101949           0        2             0        1  \n",
       "102276           0        2             0        0  \n",
       "102360           0        2             0        0  \n",
       "102955           0        2             0        0  \n",
       "104268           0        4             1        1  \n",
       "104927           1        3             0        0  \n",
       "104931           1        3             0        0  \n",
       "104932           1        3             0        0  \n",
       "105008           0        2             0        0  \n",
       "105073           0        2             1        0  \n",
       "105322           0        2             0        0  \n",
       "105753           0        2             0        0  \n",
       "108335           0        2             1        0  \n",
       "108376           0        2             1        0  \n",
       "109484           0        2             0        0  \n",
       "109733           0        2             1        0  \n",
       "109975           0        2             1        0  \n",
       "110107           0        2             1        0  \n",
       "\n",
       "[199 rows x 14 columns]"
      ]
     },
     "execution_count": 105,
     "metadata": {},
     "output_type": "execute_result"
    }
   ],
   "source": [
    "df.query('Handcap > 1') "
   ]
  },
  {
   "cell_type": "markdown",
   "metadata": {},
   "source": [
    "The result showed that there are 199 rows with 'Handcap' column value > 1, with coding of '2', '3' and '4'. "
   ]
  },
  {
   "cell_type": "markdown",
   "metadata": {},
   "source": [
    "As I didn't find any related information from the orginal dataset description for 'Handcap' coded as '2', '3', '4', we will drop these 199 rows. Compared to the size of the dataset: 100k rows, 199 is a relatively small number. Dropping these rows would likely have little impact on our analysis. Again, we will use a list of row indexes for the row dropping."
   ]
  },
  {
   "cell_type": "code",
   "execution_count": 106,
   "metadata": {},
   "outputs": [],
   "source": [
    "df.drop(df.query('Handcap > 1').index, inplace=True)"
   ]
  },
  {
   "cell_type": "markdown",
   "metadata": {},
   "source": [
    "It is always good to verify whether the drop was successful. "
   ]
  },
  {
   "cell_type": "code",
   "execution_count": 107,
   "metadata": {},
   "outputs": [
    {
     "data": {
      "text/html": [
       "<div>\n",
       "<style scoped>\n",
       "    .dataframe tbody tr th:only-of-type {\n",
       "        vertical-align: middle;\n",
       "    }\n",
       "\n",
       "    .dataframe tbody tr th {\n",
       "        vertical-align: top;\n",
       "    }\n",
       "\n",
       "    .dataframe thead th {\n",
       "        text-align: right;\n",
       "    }\n",
       "</style>\n",
       "<table border=\"1\" class=\"dataframe\">\n",
       "  <thead>\n",
       "    <tr style=\"text-align: right;\">\n",
       "      <th></th>\n",
       "      <th>PatientId</th>\n",
       "      <th>AppointmentID</th>\n",
       "      <th>Gender</th>\n",
       "      <th>ScheduledDay</th>\n",
       "      <th>AppointmentDay</th>\n",
       "      <th>Age</th>\n",
       "      <th>Neighbourhood</th>\n",
       "      <th>Scholarship</th>\n",
       "      <th>Hipertension</th>\n",
       "      <th>Diabetes</th>\n",
       "      <th>Alcoholism</th>\n",
       "      <th>Handcap</th>\n",
       "      <th>SMS_received</th>\n",
       "      <th>No-show</th>\n",
       "    </tr>\n",
       "  </thead>\n",
       "  <tbody>\n",
       "  </tbody>\n",
       "</table>\n",
       "</div>"
      ],
      "text/plain": [
       "Empty DataFrame\n",
       "Columns: [PatientId, AppointmentID, Gender, ScheduledDay, AppointmentDay, Age, Neighbourhood, Scholarship, Hipertension, Diabetes, Alcoholism, Handcap, SMS_received, No-show]\n",
       "Index: []"
      ]
     },
     "execution_count": 107,
     "metadata": {},
     "output_type": "execute_result"
    }
   ],
   "source": [
    "df.query('Handcap > 1') "
   ]
  },
  {
   "cell_type": "markdown",
   "metadata": {},
   "source": [
    "And from the query above, we confirmed that all rows with 'HandCap' > 1 have been dropped accordingly."
   ]
  },
  {
   "cell_type": "markdown",
   "metadata": {},
   "source": [
    "**Next is to drop the 'PatientId'\tand 'AppointmentID' columns as we don't need them for our analysis. We do need to specify 'axis = 1' in the drop funtion for column dropping.** "
   ]
  },
  {
   "cell_type": "code",
   "execution_count": 108,
   "metadata": {},
   "outputs": [],
   "source": [
    "df.drop(['PatientId', 'AppointmentID'], axis= 1, inplace = True)"
   ]
  },
  {
   "cell_type": "markdown",
   "metadata": {},
   "source": [
    "Now, let's verify the column drop. "
   ]
  },
  {
   "cell_type": "code",
   "execution_count": 109,
   "metadata": {},
   "outputs": [
    {
     "name": "stdout",
     "output_type": "stream",
     "text": [
      "<class 'pandas.core.frame.DataFrame'>\n",
      "Int64Index: 110327 entries, 0 to 110526\n",
      "Data columns (total 12 columns):\n",
      "Gender            110327 non-null object\n",
      "ScheduledDay      110327 non-null datetime64[ns]\n",
      "AppointmentDay    110327 non-null datetime64[ns]\n",
      "Age               110327 non-null int64\n",
      "Neighbourhood     110327 non-null object\n",
      "Scholarship       110327 non-null int64\n",
      "Hipertension      110327 non-null int64\n",
      "Diabetes          110327 non-null int64\n",
      "Alcoholism        110327 non-null int64\n",
      "Handcap           110327 non-null int64\n",
      "SMS_received      110327 non-null int64\n",
      "No-show           110327 non-null int64\n",
      "dtypes: datetime64[ns](2), int64(8), object(2)\n",
      "memory usage: 10.9+ MB\n"
     ]
    }
   ],
   "source": [
    "df.info()"
   ]
  },
  {
   "cell_type": "markdown",
   "metadata": {},
   "source": [
    "We see that the 'PatientId', 'AppointmentID' columns have been dropped out from our dataframe. Now the dataset has 12 columns in total (instead of 14 columns before the drop). \n",
    "\n",
    "Also, the row numbers has decreased from the original 110527 to 110327 as we dropped 199 rows ('Handcap' > 1) + 1 row (Age of '-1')."
   ]
  },
  {
   "cell_type": "markdown",
   "metadata": {},
   "source": [
    "**I will then change all column names into lowercases and replace '-' with '_' within the column names. We will use panda's rename function and pass in a lambda function to do so.**"
   ]
  },
  {
   "cell_type": "code",
   "execution_count": 110,
   "metadata": {},
   "outputs": [],
   "source": [
    "df.rename(columns= lambda x: x.lower().replace('-', '_'), inplace= True)"
   ]
  },
  {
   "cell_type": "markdown",
   "metadata": {},
   "source": [
    "Let's check out the column names again to see if the renaming worked."
   ]
  },
  {
   "cell_type": "code",
   "execution_count": 111,
   "metadata": {
    "scrolled": false
   },
   "outputs": [
    {
     "name": "stdout",
     "output_type": "stream",
     "text": [
      "0 gender\n",
      "1 scheduledday\n",
      "2 appointmentday\n",
      "3 age\n",
      "4 neighbourhood\n",
      "5 scholarship\n",
      "6 hipertension\n",
      "7 diabetes\n",
      "8 alcoholism\n",
      "9 handcap\n",
      "10 sms_received\n",
      "11 no_show\n"
     ]
    }
   ],
   "source": [
    "for i, v in enumerate(df.columns):\n",
    "    print(i, v)"
   ]
  },
  {
   "cell_type": "markdown",
   "metadata": {},
   "source": [
    "As we can see, all the column names are in lower case now. "
   ]
  },
  {
   "cell_type": "markdown",
   "metadata": {},
   "source": [
    "**For the last step of data cleaning, I will create a new dataframe column: 'days_diff' which is the difference in days between 'appointmentday' and 'scheduledday'.** \n",
    "\n",
    "We will need to subtract 'scheduledday' column values from 'appointmentday' column values, present the differences as absolute values and convert it into 'timedelta64[D]' datatype to get the differnece in days. Then, we assign this pandas series to a new dataframe column 'days_diff'.  "
   ]
  },
  {
   "cell_type": "code",
   "execution_count": 112,
   "metadata": {},
   "outputs": [],
   "source": [
    "df['days_diff'] = abs(df.appointmentday - df.scheduledday).astype('timedelta64[D]')"
   ]
  },
  {
   "cell_type": "markdown",
   "metadata": {},
   "source": [
    "Let's check whether the 'days_diff' column was created correctly. We can select the last 5 records of the dataframe with the columns 'scheduledday', 'appointmentday', 'days_diff '."
   ]
  },
  {
   "cell_type": "code",
   "execution_count": 113,
   "metadata": {},
   "outputs": [
    {
     "data": {
      "text/html": [
       "<div>\n",
       "<style scoped>\n",
       "    .dataframe tbody tr th:only-of-type {\n",
       "        vertical-align: middle;\n",
       "    }\n",
       "\n",
       "    .dataframe tbody tr th {\n",
       "        vertical-align: top;\n",
       "    }\n",
       "\n",
       "    .dataframe thead th {\n",
       "        text-align: right;\n",
       "    }\n",
       "</style>\n",
       "<table border=\"1\" class=\"dataframe\">\n",
       "  <thead>\n",
       "    <tr style=\"text-align: right;\">\n",
       "      <th></th>\n",
       "      <th>scheduledday</th>\n",
       "      <th>appointmentday</th>\n",
       "      <th>days_diff</th>\n",
       "    </tr>\n",
       "  </thead>\n",
       "  <tbody>\n",
       "    <tr>\n",
       "      <th>110522</th>\n",
       "      <td>2016-05-03 09:15:35</td>\n",
       "      <td>2016-06-07</td>\n",
       "      <td>34.0</td>\n",
       "    </tr>\n",
       "    <tr>\n",
       "      <th>110523</th>\n",
       "      <td>2016-05-03 07:27:33</td>\n",
       "      <td>2016-06-07</td>\n",
       "      <td>34.0</td>\n",
       "    </tr>\n",
       "    <tr>\n",
       "      <th>110524</th>\n",
       "      <td>2016-04-27 16:03:52</td>\n",
       "      <td>2016-06-07</td>\n",
       "      <td>40.0</td>\n",
       "    </tr>\n",
       "    <tr>\n",
       "      <th>110525</th>\n",
       "      <td>2016-04-27 15:09:23</td>\n",
       "      <td>2016-06-07</td>\n",
       "      <td>40.0</td>\n",
       "    </tr>\n",
       "    <tr>\n",
       "      <th>110526</th>\n",
       "      <td>2016-04-27 13:30:56</td>\n",
       "      <td>2016-06-07</td>\n",
       "      <td>40.0</td>\n",
       "    </tr>\n",
       "  </tbody>\n",
       "</table>\n",
       "</div>"
      ],
      "text/plain": [
       "              scheduledday appointmentday  days_diff\n",
       "110522 2016-05-03 09:15:35     2016-06-07       34.0\n",
       "110523 2016-05-03 07:27:33     2016-06-07       34.0\n",
       "110524 2016-04-27 16:03:52     2016-06-07       40.0\n",
       "110525 2016-04-27 15:09:23     2016-06-07       40.0\n",
       "110526 2016-04-27 13:30:56     2016-06-07       40.0"
      ]
     },
     "execution_count": 113,
     "metadata": {},
     "output_type": "execute_result"
    }
   ],
   "source": [
    "df.tail()[['scheduledday', 'appointmentday', 'days_diff']]"
   ]
  },
  {
   "cell_type": "markdown",
   "metadata": {},
   "source": [
    "Results showed that the 'days_diff' column has been created and the difference (in days) between the appointment scheduled day and actual appointment day was calculated correctly. "
   ]
  },
  {
   "cell_type": "markdown",
   "metadata": {},
   "source": [
    " Now we are ready to do some exploratory data analysis!"
   ]
  },
  {
   "cell_type": "markdown",
   "metadata": {},
   "source": [
    "<a id='eda'></a>\n",
    "## Exploratory Data Analysis\n",
    "\n",
    "\n",
    "\n",
    "### Research Question 1 (Can text message reminders help to decrease the no-show rate?)"
   ]
  },
  {
   "cell_type": "markdown",
   "metadata": {},
   "source": [
    "**The first question I have is: Can text message reminders help to decrease the no-show rate? I assume that by receiving mobile text message reminders, patients may have lower rate of no-shows for their medical appointment.**"
   ]
  },
  {
   "cell_type": "markdown",
   "metadata": {},
   "source": [
    "Let's first look at the no-show value counts and the mean no-show rates for the overall dataset. Remember that no-shows are coded as '1' and '0' means the patient made it to the appointment. "
   ]
  },
  {
   "cell_type": "code",
   "execution_count": 114,
   "metadata": {},
   "outputs": [
    {
     "data": {
      "text/plain": [
       "0    88049\n",
       "1    22278\n",
       "Name: no_show, dtype: int64"
      ]
     },
     "execution_count": 114,
     "metadata": {},
     "output_type": "execute_result"
    }
   ],
   "source": [
    "show_count = df.no_show.value_counts()\n",
    "show_count"
   ]
  },
  {
   "cell_type": "code",
   "execution_count": 115,
   "metadata": {
    "scrolled": true
   },
   "outputs": [
    {
     "data": {
      "text/plain": [
       "0.20192699883074861"
      ]
     },
     "execution_count": 115,
     "metadata": {},
     "output_type": "execute_result"
    }
   ],
   "source": [
    "np.mean(df.no_show)"
   ]
  },
  {
   "cell_type": "markdown",
   "metadata": {},
   "source": [
    "It seems that for the >100k medical appointments, there are 22278 events of no-shows and 88049 events of patient showing up. The average no-show rate is around 20% which can be visualized in a pie chart as below. "
   ]
  },
  {
   "cell_type": "code",
   "execution_count": 116,
   "metadata": {},
   "outputs": [
    {
     "data": {
      "image/png": "[encoded data removed]",
      "text/plain": [
       "<matplotlib.figure.Figure at 0x7fae11ad4198>"
      ]
     },
     "metadata": {},
     "output_type": "display_data"
    }
   ],
   "source": [
    "# We will use matplotlib to construct a pie chart to visualize the overall no-show rate for the medical appointments.\n",
    "\n",
    "labels = 'No-shows', 'Showed up'\n",
    "sizes = [show_count[1], show_count[0]]\n",
    "colors = ['lightcoral', 'lightskyblue']\n",
    "explode = (0.1, 0)   # only \"explode\" the 1st slice: No-shows\n",
    "\n",
    "plt.figure(figsize=(8, 6), dpi=80)\n",
    "plt.pie(sizes, explode=explode, labels=labels, colors=colors,\n",
    "autopct='%1.1f%%', shadow=True, startangle=130, textprops={'fontsize': 14})\n",
    "plt.axis('equal') # Equal aspect ratio will ensure the pie chart is drawn as a circle\n",
    "plt.title('Overall No-show rates for the medical appointments', fontsize= 16); "
   ]
  },
  {
   "cell_type": "markdown",
   "metadata": {},
   "source": [
    "The next question would be: how many appointments sent out text message reminders? "
   ]
  },
  {
   "cell_type": "code",
   "execution_count": 117,
   "metadata": {
    "scrolled": true
   },
   "outputs": [
    {
     "data": {
      "text/plain": [
       "0    74892\n",
       "1    35435\n",
       "Name: sms_received, dtype: int64"
      ]
     },
     "execution_count": 117,
     "metadata": {},
     "output_type": "execute_result"
    }
   ],
   "source": [
    "df.sms_received.value_counts()"
   ]
  },
  {
   "cell_type": "markdown",
   "metadata": {},
   "source": [
    "Data shows that 35435 of reminders were sent out to patients, which is around 32% of all appointments. "
   ]
  },
  {
   "cell_type": "markdown",
   "metadata": {},
   "source": [
    "To explore whether the text message could decrease the no-show rate, we can group by the 'sms_received' column, and compare the mean no-show rates. "
   ]
  },
  {
   "cell_type": "code",
   "execution_count": 118,
   "metadata": {
    "scrolled": false
   },
   "outputs": [
    {
     "data": {
      "text/plain": [
       "sms_received\n",
       "0    0.166947\n",
       "1    0.275857\n",
       "Name: no_show, dtype: float64"
      ]
     },
     "execution_count": 118,
     "metadata": {},
     "output_type": "execute_result"
    }
   ],
   "source": [
    "sms_show_rate = df.groupby('sms_received')['no_show'].apply(np.mean)\n",
    "sms_show_rate"
   ]
  },
  {
   "cell_type": "markdown",
   "metadata": {},
   "source": [
    "Surprisingly, we see that for appointments with text message reminders sent, the no-show rate is around 27.5%, higher than the 16.6% no-show rate without text message reminders. Let's visualize the differnce in a barchart as below."
   ]
  },
  {
   "cell_type": "code",
   "execution_count": 119,
   "metadata": {},
   "outputs": [
    {
     "data": {
      "image/png": "[encoded data removed]",
      "text/plain": [
       "<matplotlib.figure.Figure at 0x7fae11ad4438>"
      ]
     },
     "metadata": {
      "needs_background": "light"
     },
     "output_type": "display_data"
    }
   ],
   "source": [
    "x_labels = ('No text messages', 'Yes text messages')\n",
    "x_pos = [1, 2]\n",
    "no_show_rates = [sms_show_rate[0]*100, \n",
    "                 sms_show_rate[1]*100]\n",
    "\n",
    "plt.figure(figsize=(8, 6), dpi=80)\n",
    "plt.bar(x_pos, no_show_rates, align='center', alpha=0.7, color = 'lightskyblue', width = 0.7)\n",
    "plt.xticks(x_pos, x_labels, fontsize=14)\n",
    "plt.yticks(fontsize=14)\n",
    "plt.ylabel('Percentage No-show', fontsize=14)\n",
    "plt.title('Average No-show rates between appointments \\n with/without text message reminders', fontsize=16); "
   ]
  },
  {
   "cell_type": "markdown",
   "metadata": {},
   "source": [
    " **As we can see, patients who received text message reminders tend to have higher no-show rates! Compared to the patients who didn't receive text message reminders. And the average no-show rate is about 10% higher for patients who received text reminders.**"
   ]
  },
  {
   "cell_type": "markdown",
   "metadata": {},
   "source": [
    "### Research Question 2  (Would the number of days between the appointment day and scheduled day affect the no-show rate? )"
   ]
  },
  {
   "cell_type": "markdown",
   "metadata": {},
   "source": [
    "In the data cleaning section, we created a new column: 'days_diff' which calculates the difference in number of days between the actual appointment date and appointment scheduled date. I'm interested in finding out whether people who made appointments well in advance would have a higher no-show rate. In other words, I assume that a larger number in 'days_diff' may correlate with higher no-show rates. "
   ]
  },
  {
   "cell_type": "markdown",
   "metadata": {},
   "source": [
    "First, let's explore the 'days_diff' distribution with some summary statistics. "
   ]
  },
  {
   "cell_type": "code",
   "execution_count": 120,
   "metadata": {},
   "outputs": [
    {
     "data": {
      "text/plain": [
       "count    110327.000000\n",
       "mean          9.536025\n",
       "std          15.030540\n",
       "min           0.000000\n",
       "25%           0.000000\n",
       "50%           3.000000\n",
       "75%          14.000000\n",
       "max         178.000000\n",
       "Name: days_diff, dtype: float64"
      ]
     },
     "execution_count": 120,
     "metadata": {},
     "output_type": "execute_result"
    }
   ],
   "source": [
    "df.days_diff.describe()"
   ]
  },
  {
   "cell_type": "markdown",
   "metadata": {},
   "source": [
    "Very interestingly, we see that at least 25% of all appointments were made at the same day of the actual appointment. And 50% of all appointments were scheduled within 3 days from the actual appointment date. Most appointments were scheduled within 14 days from the appointment date. And the maximum difference in days was 178 days, indicating the appointment was made around 6 months in advance!  "
   ]
  },
  {
   "cell_type": "markdown",
   "metadata": {},
   "source": [
    "Next, let's plot a histogram of the 'days_diff' to visualize the distribution of the difference in days. "
   ]
  },
  {
   "cell_type": "code",
   "execution_count": 121,
   "metadata": {},
   "outputs": [
    {
     "data": {
      "image/png": "[encoded data removed]",
      "text/plain": [
       "<matplotlib.figure.Figure at 0x7fae11856dd8>"
      ]
     },
     "metadata": {
      "needs_background": "light"
     },
     "output_type": "display_data"
    }
   ],
   "source": [
    "plt.figure(figsize=(8, 6), dpi=80)\n",
    "plt.hist(df.days_diff, bins = 25, facecolor= 'pink');\n",
    "plt.xticks(fontsize=14)\n",
    "plt.yticks(fontsize=14)\n",
    "plt.xlabel('Difference in days', fontsize=14)\n",
    "plt.ylabel('Appointment encounters', fontsize=14)\n",
    "plt.title('Difference between scheduled date and appointment date in days', fontsize=16); "
   ]
  },
  {
   "cell_type": "markdown",
   "metadata": {},
   "source": [
    "As we can see, most of the patients scheduled their appointments very close to the actual appointment date. The distribution is skewed to the right. Very few appointments were scheduled more than 75 days in advance. \n",
    "\n",
    "For our analysis, I will create a new column which separates the 'days_diff' values into four bins using the summary statistics above. More specifically, I will use Panda's cut function to organize the 'days_diff' values into four category: 0 days, 1-3 days, 4-14 days and 15-178 days. For the cutting points, I will use a list: [-1, 0, 3, 14, 178] as below. The reason for starting the cut from -1 is that for the cut function, we can't use the same cutting points as from 0 to 0. Any number below 0 would work for the start cutting point. "
   ]
  },
  {
   "cell_type": "code",
   "execution_count": 122,
   "metadata": {},
   "outputs": [],
   "source": [
    "df['diff_bins'] = pd.cut(df.days_diff, bins= [-1, 0, 3, 14, 178], labels= ['0', '1-3', '4-14', '15-178'])"
   ]
  },
  {
   "cell_type": "markdown",
   "metadata": {},
   "source": [
    "Next, we check the value counts for our newly created column 'diff_bins'. I reindexed the returned series so the difference in days would have an assending order: 0 days, 1-3 days, 4-14 days and 15-178 days.  "
   ]
  },
  {
   "cell_type": "code",
   "execution_count": 123,
   "metadata": {},
   "outputs": [
    {
     "data": {
      "text/plain": [
       "0         43689\n",
       "1-3       14725\n",
       "4-14      25708\n",
       "15-178    26205\n",
       "Name: diff_bins, dtype: int64"
      ]
     },
     "execution_count": 123,
     "metadata": {},
     "output_type": "execute_result"
    }
   ],
   "source": [
    "df.diff_bins.value_counts().reindex(['0', '1-3', '4-14', '15-178'])"
   ]
  },
  {
   "cell_type": "markdown",
   "metadata": {},
   "source": [
    "We can see that the grouping was successful and there were 43689 of same day appointments."
   ]
  },
  {
   "cell_type": "markdown",
   "metadata": {},
   "source": [
    "Now it is time to compare the no-show rates between the four groups. We can use panda's groupby function do to so. First, we groupby the column 'diff_bins' and then calculate the mean no-shows for each group. "
   ]
  },
  {
   "cell_type": "code",
   "execution_count": 124,
   "metadata": {},
   "outputs": [
    {
     "data": {
      "text/plain": [
       "diff_bins\n",
       "0         0.066332\n",
       "1-3       0.235925\n",
       "4-14      0.285514\n",
       "15-178    0.326884\n",
       "Name: no_show, dtype: float64"
      ]
     },
     "execution_count": 124,
     "metadata": {},
     "output_type": "execute_result"
    }
   ],
   "source": [
    "rates_bin = df.groupby('diff_bins')['no_show'].apply(np.mean)\n",
    "rates_bin"
   ]
  },
  {
   "cell_type": "markdown",
   "metadata": {},
   "source": [
    "Very interestingly, we see that for people with same day appointments (the scheduled day is the same as the actual appointment day), there is only 6.6% of no-show rate which is much lower than the 20% average no-show rate. However in the 1-3 day group (which means the patient made the appointment 1 to 3 days in advance), the no-show rate increased to 23.6%! The no-show rate continues to rise in the 4-14 days group at 28.5% and in the 15-178 days group at 32.7%. \n",
    "\n",
    "Let's visualize the changes of no-shows using a barchart as below."
   ]
  },
  {
   "cell_type": "code",
   "execution_count": 125,
   "metadata": {},
   "outputs": [
    {
     "data": {
      "image/png": "[encoded data removed]",
      "text/plain": [
       "<matplotlib.figure.Figure at 0x7fae115640f0>"
      ]
     },
     "metadata": {
      "needs_background": "light"
     },
     "output_type": "display_data"
    }
   ],
   "source": [
    "x_labels = ('0', '1-3', '4-14', '15-178')\n",
    "x_pos = [1, 2, 3, 4]\n",
    "rates = [rates_bin[0]*100, \n",
    "         rates_bin[1]*100,\n",
    "         rates_bin[2]*100,\n",
    "         rates_bin[3]*100]\n",
    "\n",
    "plt.figure(figsize=(8, 6), dpi=80)\n",
    "plt.bar(x_pos, rates, align='center', alpha=0.77, color = 'gold', width = 0.7)\n",
    "plt.xticks(x_pos, x_labels, fontsize=14)\n",
    "plt.yticks(fontsize=14)\n",
    "plt.xlabel('Number of days between scheduled day and appointment day', fontsize=14)\n",
    "plt.ylabel('Percentage No-show', fontsize=14)\n",
    "plt.title('The effect of number of days \\n between appointment day and scheduled day on no-shows', fontsize=16); "
   ]
  },
  {
   "cell_type": "markdown",
   "metadata": {},
   "source": [
    "**As we can see, the number of days between scheduled day and appointment day may play a role in the no-show rates. It seems that people who made appointments well in advance would tend to have a higher no-show rate.**"
   ]
  },
  {
   "cell_type": "markdown",
   "metadata": {},
   "source": [
    "### Research Question 3  (Do different age groups have effects on the no-show rate?)\n"
   ]
  },
  {
   "cell_type": "markdown",
   "metadata": {},
   "source": [
    "Finally, I will look at the age group's effect on the no-show rate. Let's start by looking at the age distribution of the dataset with some summary statistics."
   ]
  },
  {
   "cell_type": "code",
   "execution_count": 126,
   "metadata": {
    "scrolled": true
   },
   "outputs": [
    {
     "data": {
      "text/plain": [
       "count    110327.000000\n",
       "mean         37.070753\n",
       "std          23.098052\n",
       "min           0.000000\n",
       "25%          18.000000\n",
       "50%          37.000000\n",
       "75%          55.000000\n",
       "max         115.000000\n",
       "Name: age, dtype: float64"
      ]
     },
     "execution_count": 126,
     "metadata": {},
     "output_type": "execute_result"
    }
   ],
   "source": [
    "df.age.describe()"
   ]
  },
  {
   "cell_type": "markdown",
   "metadata": {},
   "source": [
    "As we can see, the mean and median age is both 37 years old. The minimum age is 0 which represents new born babies, and the maximum age is 115. Most of the ages are between 18 years old and 55 years old. Let's plot a histogram to visualize the age distribution. "
   ]
  },
  {
   "cell_type": "code",
   "execution_count": 127,
   "metadata": {},
   "outputs": [
    {
     "data": {
      "image/png": "[encoded data removed]",
      "text/plain": [
       "<matplotlib.figure.Figure at 0x7fae117943c8>"
      ]
     },
     "metadata": {
      "needs_background": "light"
     },
     "output_type": "display_data"
    }
   ],
   "source": [
    "plt.figure(figsize=(8, 6), dpi=80)\n",
    "plt.hist(df.age, bins = 12, facecolor= 'yellowgreen');\n",
    "plt.xticks(fontsize=14)\n",
    "plt.yticks(fontsize=14)\n",
    "plt.xlabel('Age', fontsize=14)\n",
    "plt.ylabel('Appointment encounters', fontsize=14)\n",
    "plt.title('The distribution of patient age', fontsize=16); "
   ]
  },
  {
   "cell_type": "markdown",
   "metadata": {},
   "source": [
    "From the histogram we see that the age range 0-10 years old had the most appointment encounters. And starting from age 70, the appointment encounters formed a strong decreasing trend. "
   ]
  },
  {
   "cell_type": "markdown",
   "metadata": {},
   "source": [
    "Next, let's compare the mean ages between the no-show patients and the patients who showed up for their appointments. \n",
    "We can groupby the 'no_show' column, select the 'age' column and look at the summary statistics."
   ]
  },
  {
   "cell_type": "code",
   "execution_count": 128,
   "metadata": {},
   "outputs": [
    {
     "data": {
      "text/html": [
       "<div>\n",
       "<style scoped>\n",
       "    .dataframe tbody tr th:only-of-type {\n",
       "        vertical-align: middle;\n",
       "    }\n",
       "\n",
       "    .dataframe tbody tr th {\n",
       "        vertical-align: top;\n",
       "    }\n",
       "\n",
       "    .dataframe thead th {\n",
       "        text-align: right;\n",
       "    }\n",
       "</style>\n",
       "<table border=\"1\" class=\"dataframe\">\n",
       "  <thead>\n",
       "    <tr style=\"text-align: right;\">\n",
       "      <th></th>\n",
       "      <th>count</th>\n",
       "      <th>mean</th>\n",
       "      <th>std</th>\n",
       "      <th>min</th>\n",
       "      <th>25%</th>\n",
       "      <th>50%</th>\n",
       "      <th>75%</th>\n",
       "      <th>max</th>\n",
       "    </tr>\n",
       "    <tr>\n",
       "      <th>no_show</th>\n",
       "      <th></th>\n",
       "      <th></th>\n",
       "      <th></th>\n",
       "      <th></th>\n",
       "      <th></th>\n",
       "      <th></th>\n",
       "      <th></th>\n",
       "      <th></th>\n",
       "    </tr>\n",
       "  </thead>\n",
       "  <tbody>\n",
       "    <tr>\n",
       "      <th>0</th>\n",
       "      <td>88049.0</td>\n",
       "      <td>37.777090</td>\n",
       "      <td>23.330356</td>\n",
       "      <td>0.0</td>\n",
       "      <td>18.0</td>\n",
       "      <td>38.0</td>\n",
       "      <td>56.0</td>\n",
       "      <td>115.0</td>\n",
       "    </tr>\n",
       "    <tr>\n",
       "      <th>1</th>\n",
       "      <td>22278.0</td>\n",
       "      <td>34.279109</td>\n",
       "      <td>21.935121</td>\n",
       "      <td>0.0</td>\n",
       "      <td>16.0</td>\n",
       "      <td>33.0</td>\n",
       "      <td>51.0</td>\n",
       "      <td>115.0</td>\n",
       "    </tr>\n",
       "  </tbody>\n",
       "</table>\n",
       "</div>"
      ],
      "text/plain": [
       "           count       mean        std  min   25%   50%   75%    max\n",
       "no_show                                                             \n",
       "0        88049.0  37.777090  23.330356  0.0  18.0  38.0  56.0  115.0\n",
       "1        22278.0  34.279109  21.935121  0.0  16.0  33.0  51.0  115.0"
      ]
     },
     "execution_count": 128,
     "metadata": {},
     "output_type": "execute_result"
    }
   ],
   "source": [
    "df.groupby('no_show')['age'].describe()"
   ]
  },
  {
   "cell_type": "markdown",
   "metadata": {},
   "source": [
    "We see that the mean age for no-show patients is 34 years old, while the mean age for patients who showed up is 38 years old. Majority of the no-show patient's age fall between 16-51 years old, while majority of the showed up patient's age fall between 18-56 years old. Let's visualize the distribution of age by 'no_show' using a box-plot. "
   ]
  },
  {
   "cell_type": "code",
   "execution_count": 129,
   "metadata": {},
   "outputs": [
    {
     "data": {
      "image/png": "[encoded data removed]",
      "text/plain": [
       "<matplotlib.figure.Figure at 0x7fae1171ccc0>"
      ]
     },
     "metadata": {
      "needs_background": "light"
     },
     "output_type": "display_data"
    }
   ],
   "source": [
    "plt.figure(figsize=(8, 6), dpi=80)\n",
    "bp = plt.boxplot([ df[df.no_show == 0]['age'], df[df.no_show == 1]['age']], \n",
    "                 patch_artist=True, labels= ['Showed up', 'No-shows'])\n",
    "bp['boxes'][0].set_facecolor('plum')\n",
    "bp['boxes'][1].set_facecolor('cornflowerblue')\n",
    "\n",
    "plt.xticks(fontsize=15)\n",
    "plt.yticks(fontsize=14)\n",
    "plt.ylabel('Age', fontsize=16)\n",
    "plt.title('The distribution of patient age \\n between showed up and no-show group', fontsize=16); \n"
   ]
  },
  {
   "cell_type": "markdown",
   "metadata": {},
   "source": [
    "The distribution of age between the showed up and no-show group looks very similar. What if we separate the ages into four bins using the summary statistics? Would the age sub-groups show difference in no-show rates? "
   ]
  },
  {
   "cell_type": "code",
   "execution_count": 130,
   "metadata": {},
   "outputs": [
    {
     "data": {
      "text/plain": [
       "count    110327.000000\n",
       "mean         37.070753\n",
       "std          23.098052\n",
       "min           0.000000\n",
       "25%          18.000000\n",
       "50%          37.000000\n",
       "75%          55.000000\n",
       "max         115.000000\n",
       "Name: age, dtype: float64"
      ]
     },
     "execution_count": 130,
     "metadata": {},
     "output_type": "execute_result"
    }
   ],
   "source": [
    "df.age.describe()"
   ]
  },
  {
   "cell_type": "markdown",
   "metadata": {},
   "source": [
    "We will use panda's cut function to create a new column 'age_bins' for the dataframe using the minimum, 25%, 50%, 75% and maximum age as the cut off point."
   ]
  },
  {
   "cell_type": "code",
   "execution_count": 131,
   "metadata": {},
   "outputs": [],
   "source": [
    "df['age_bins'] = pd.cut(df.age, bins=[0, 18, 37, 55, 115], labels=['0-18', '19-37', '38-55', '56-115'], include_lowest= True)"
   ]
  },
  {
   "cell_type": "markdown",
   "metadata": {},
   "source": [
    "Let's verify the new column created and reindex the columns."
   ]
  },
  {
   "cell_type": "code",
   "execution_count": 132,
   "metadata": {},
   "outputs": [
    {
     "data": {
      "text/plain": [
       "0-18      28819\n",
       "19-37     27212\n",
       "38-55     26870\n",
       "56-115    27426\n",
       "Name: age_bins, dtype: int64"
      ]
     },
     "execution_count": 132,
     "metadata": {},
     "output_type": "execute_result"
    }
   ],
   "source": [
    "df.age_bins.value_counts().reindex(['0-18', '19-37', '38-55', '56-115'])"
   ]
  },
  {
   "cell_type": "markdown",
   "metadata": {},
   "source": [
    "We can see that the new column was created successfully and within each bin there is more than 26000 age counts.\n",
    "\n",
    "Now it is time to compare the no-show rates between the four age groups. We can use panda's groupby function do to so. First, we groupby the column 'age_bins' and then calculate the mean no-show rate for each group."
   ]
  },
  {
   "cell_type": "code",
   "execution_count": 133,
   "metadata": {},
   "outputs": [
    {
     "data": {
      "text/plain": [
       "age_bins\n",
       "0-18      0.219994\n",
       "19-37     0.235484\n",
       "38-55     0.195274\n",
       "56-115    0.156166\n",
       "Name: no_show, dtype: float64"
      ]
     },
     "execution_count": 133,
     "metadata": {},
     "output_type": "execute_result"
    }
   ],
   "source": [
    "age_bin = df.groupby('age_bins')['no_show'].mean()\n",
    "age_bin"
   ]
  },
  {
   "cell_type": "markdown",
   "metadata": {},
   "source": [
    "The results indicated that patients within the 56-115 age group have a lower no-show rate of 15.6%. The age group of 38-55 have a no-show rate of 19.5% which is lower than the average 20.2%. While the age group 0-18 and 19-37 all have higher no-show rates. "
   ]
  },
  {
   "cell_type": "markdown",
   "metadata": {},
   "source": [
    "Let's visualize this trend in a bar chart. "
   ]
  },
  {
   "cell_type": "code",
   "execution_count": 134,
   "metadata": {},
   "outputs": [
    {
     "data": {
      "image/png": "[encoded data removed]",
      "text/plain": [
       "<matplotlib.figure.Figure at 0x7fae11766f28>"
      ]
     },
     "metadata": {
      "needs_background": "light"
     },
     "output_type": "display_data"
    }
   ],
   "source": [
    "x_labels = ('0-18', '19-37', '38-55', '56-115')\n",
    "x_pos = [1, 2, 3, 4]\n",
    "nrates = [age_bin[0]*100, \n",
    "          age_bin[1]*100,\n",
    "          age_bin[2]*100,\n",
    "          age_bin[3]*100]\n",
    "\n",
    "plt.figure(figsize=(8, 6), dpi=80)\n",
    "plt.bar(x_pos, nrates, align='center', alpha=0.77, color = 'seagreen', width = 0.7)\n",
    "plt.xticks(x_pos, x_labels, fontsize=14)\n",
    "plt.yticks(fontsize=14)\n",
    "plt.xlabel('Age', fontsize=14)\n",
    "plt.ylabel('Percentage No-show', fontsize=14)\n",
    "plt.title('Average no-show rates between age groups', fontsize=16); "
   ]
  },
  {
   "cell_type": "markdown",
   "metadata": {},
   "source": [
    "**From the barchart, we see the no-show rate goes up from the age group 0-18 to age group 19-37. And then the no-show rate forms a down trend as the age increase. Age group 56-115 have the lowest no-show rate of: 15.6%.** "
   ]
  },
  {
   "cell_type": "markdown",
   "metadata": {},
   "source": [
    "<a id='conclusions'></a>\n",
    "## Conclusions\n",
    "\n",
    "In this project, I analyzed the medical no-shows appointment dataset to identify trends that would affect appointment no-show rates. I looked at whether text message reminders, days between appointment scheduled day and actual appointment day, and age could affect the no-show ratings. To my surprise, I found that people who did receive a text message reminder had a higher 10% no-show rate on average. This indicates text message reminders may not play an important role in lowering the no-show rate. Next, I looked at whether the number of days between the appointment day and scheduled day would affect the no-show rate. I created a new dataset column to calculate the difference in days, and then grouped them into four bins using summary statistics. My data showed that patients who had same day appointments (the scheduled day and appointment day are on the same day) had the lowest no-show rate of 6.6%. And as the difference in days increase, the no-show rate forms a increasing trend to above the average 20.2%. This suggests that the time between appointment scheduled day and actual appointment day may play a role in the no-show ratings. Last, I investigated whether patient's age would affect the no-show rate. Although the distribution of age looks similar between the no-shows and the patients who showed up, grouping the age into various age groups provided more insights. Interestly, the age group 56-115 had the lowest no-show rate of 15.6% and age group 38-55 had slightly lower than average no-show rates. This may indicate that older people might need more care and tend not to miss their appointments. \n",
    "\n",
    "\n",
    "**Limitations**\n",
    "\n",
    "There are several limitations to my exploration and analysis. First, I only used summary statistics for my analysis and didn't perform any inferential statistics or machine learning to draw conclusions. Second, there are several other independent variables such as whether the patiend had Diabetes or Alcoholism which I didn't explore. They may play a role in the no-show rates as well. Third, multivairate exploration of 3 or more variables at the same time was not done in this analysis. As I continue to learn at Udacity, I will come back and work on this project again to address these limitations. \n",
    "\n",
    "\n",
    "**List of Websites I used in creating my submission**\n",
    "\n",
    "https://stackoverflow.com\n",
    "\n",
    "https://matplotlib.org\n",
    "\n",
    "https://seaborn.pydata.org/\n",
    "\n",
    "  \n",
    "  \n",
    "\n",
    "## Thank you! 😊\n",
    "\n"
   ]
  },
  {
   "cell_type": "code",
   "execution_count": 135,
   "metadata": {},
   "outputs": [
    {
     "data": {
      "text/plain": [
       "0"
      ]
     },
     "execution_count": 135,
     "metadata": {},
     "output_type": "execute_result"
    }
   ],
   "source": [
    "from subprocess import call\n",
    "call(['python', '-m', 'nbconvert', 'Investigate_a_Dataset.ipynb'])"
   ]
  }
 ],
 "metadata": {
  "kernelspec": {
   "display_name": "Python 3",
   "language": "python",
   "name": "python3"
  },
  "language_info": {
   "codemirror_mode": {
    "name": "ipython",
    "version": 3
   },
   "file_extension": ".py",
   "mimetype": "text/x-python",
   "name": "python",
   "nbconvert_exporter": "python",
   "pygments_lexer": "ipython3",
   "version": "3.6.3"
  }
 },
 "nbformat": 4,
 "nbformat_minor": 2
}
